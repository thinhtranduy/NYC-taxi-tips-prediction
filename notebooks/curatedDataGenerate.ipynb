{
 "cells": [
  {
   "cell_type": "code",
   "execution_count": 1,
   "metadata": {},
   "outputs": [
    {
     "name": "stderr",
     "output_type": "stream",
     "text": [
      "Setting default log level to \"WARN\".\n",
      "To adjust logging level use sc.setLogLevel(newLevel). For SparkR, use setLogLevel(newLevel).\n",
      "24/08/18 18:54:33 WARN NativeCodeLoader: Unable to load native-hadoop library for your platform... using builtin-java classes where applicable\n"
     ]
    }
   ],
   "source": [
    "from pyspark.sql import SparkSession, functions as F\n",
    "from pyspark.sql.functions import col, when, expr, format_number, dayofweek\n",
    "\n",
    "# Create a spark session (which will run spark jobs)\n",
    "spark = (\n",
    "    SparkSession.builder.appName(\"CuratedData\")\n",
    "    .config(\"spark.sql.repl.eagerEval.enabled\", True)\n",
    "    .config(\"spark.sql.parquet.cacheMetadata\", \"true\")\n",
    "    .config(\"spark.sql.session.timeZone\", \"Etc/UTC\")\n",
    "    .config('spark.driver.memory', '4g')\n",
    "    .config('spark.executor.memory', '2g')\n",
    "    .getOrCreate()\n",
    ")"
   ]
  },
  {
   "cell_type": "code",
   "execution_count": 2,
   "metadata": {},
   "outputs": [],
   "source": [
    "import sys\n",
    "sys.path.insert(0, '../scripts')\n",
    "from utils import dropNull, filteringOnCondition, featureExtracting, extractingDateAndTime, reFormat, joiningWeatherData, joiningBoroughs\n"
   ]
  },
  {
   "cell_type": "code",
   "execution_count": 3,
   "metadata": {},
   "outputs": [],
   "source": [
    "raw_data = spark.read.parquet('../data/raw/*')\n"
   ]
  },
  {
   "cell_type": "code",
   "execution_count": 4,
   "metadata": {},
   "outputs": [
    {
     "name": "stderr",
     "output_type": "stream",
     "text": [
      "                                                                                \r"
     ]
    },
    {
     "name": "stdout",
     "output_type": "stream",
     "text": [
      "+--------+--------------------+---------------------+---------------+-------------+----------+------------------+------------+------------+------------+-----------+-----+-------+----------+------------+---------------------+------------+--------------------+-----------+\n",
      "|vendorid|tpep_pickup_datetime|tpep_dropoff_datetime|passenger_count|trip_distance|ratecodeid|store_and_fwd_flag|pulocationid|dolocationid|payment_type|fare_amount|extra|mta_tax|tip_amount|tolls_amount|improvement_surcharge|total_amount|congestion_surcharge|airport_fee|\n",
      "+--------+--------------------+---------------------+---------------+-------------+----------+------------------+------------+------------+------------+-----------+-----+-------+----------+------------+---------------------+------------+--------------------+-----------+\n",
      "|       0|                   0|                    0|         780804|            0|    780804|            780804|           0|           0|           0|          0|    0|      0|         0|           0|                    0|           0|              780804|     780804|\n",
      "+--------+--------------------+---------------------+---------------+-------------+----------+------------------+------------+------------+------------+-----------+-----+-------+----------+------------+---------------------+------------+--------------------+-----------+\n",
      "\n"
     ]
    }
   ],
   "source": [
    "null_counts = raw_data.select([F.sum(F.col(c).isNull().cast(\"int\")).alias(c) for c in raw_data.columns])\n",
    "null_counts.show()"
   ]
  },
  {
   "cell_type": "code",
   "execution_count": 5,
   "metadata": {},
   "outputs": [
    {
     "name": "stderr",
     "output_type": "stream",
     "text": [
      "                                                                                \r"
     ]
    },
    {
     "data": {
      "text/plain": [
       "18035802"
      ]
     },
     "execution_count": 5,
     "metadata": {},
     "output_type": "execute_result"
    }
   ],
   "source": [
    "curated_data = dropNull(raw_data)\n",
    "curated_data.count()"
   ]
  },
  {
   "cell_type": "code",
   "execution_count": 6,
   "metadata": {},
   "outputs": [
    {
     "name": "stderr",
     "output_type": "stream",
     "text": [
      "[Stage 7:===================>                                       (3 + 6) / 9]\r"
     ]
    },
    {
     "name": "stdout",
     "output_type": "stream",
     "text": [
      "+--------+--------------------+---------------------+---------------+-------------+----------+------------------+------------+------------+------------+-----------+-----+-------+----------+------------+---------------------+------------+--------------------+-----------+---------------+\n",
      "|vendorid|tpep_pickup_datetime|tpep_dropoff_datetime|passenger_count|trip_distance|ratecodeid|store_and_fwd_flag|pulocationid|dolocationid|payment_type|fare_amount|extra|mta_tax|tip_amount|tolls_amount|improvement_surcharge|total_amount|congestion_surcharge|airport_fee|is_valid_record|\n",
      "+--------+--------------------+---------------------+---------------+-------------+----------+------------------+------------+------------+------------+-----------+-----+-------+----------+------------+---------------------+------------+--------------------+-----------+---------------+\n",
      "|       1| 2023-07-01 00:29:59|  2023-07-01 00:40:15|              1|          1.8|         1|                 N|         140|         263|           1|       12.1|  3.5|    0.5|       5.1|         0.0|                  1.0|        22.2|                 2.5|        0.0|           true|\n",
      "|       2| 2023-07-01 00:38:29|  2023-07-01 00:48:53|              1|         2.36|         1|                 N|         142|         262|           1|       13.5|  1.0|    0.5|       3.7|         0.0|                  1.0|        22.2|                 2.5|        0.0|           true|\n",
      "|       2| 2023-07-01 00:14:16|  2023-07-01 00:29:13|              1|         4.36|         1|                 N|          68|          24|           1|       19.8|  1.0|    0.5|      4.96|         0.0|                  1.0|       29.76|                 2.5|        0.0|           true|\n",
      "|       2| 2023-07-01 00:29:32|  2023-07-01 00:54:14|              1|         8.67|         1|                 N|         138|         186|           1|       38.7|  6.0|    0.5|       7.0|        6.55|                  1.0|        64.0|                 2.5|       1.75|           true|\n",
      "|       2| 2023-07-01 00:24:43|  2023-07-01 00:47:49|              1|         9.11|         1|                 N|         138|         230|           1|       39.4|  6.0|    0.5|     11.19|        6.55|                  1.0|       68.89|                 2.5|       1.75|           true|\n",
      "|       2| 2023-07-01 00:35:28|  2023-07-01 00:45:30|              1|         3.08|         1|                 N|         166|         244|           1|       14.9|  1.0|    0.5|      3.48|         0.0|                  1.0|       20.88|                 0.0|        0.0|           true|\n",
      "|       2| 2023-07-01 00:38:00|  2023-07-01 00:54:47|              3|         3.88|         1|                 N|         186|          24|           1|       19.8|  1.0|    0.5|       1.0|         0.0|                  1.0|        25.8|                 2.5|        0.0|           true|\n",
      "|       1| 2023-07-01 00:02:08|  2023-07-01 00:19:00|              1|          8.1|         1|                 N|          95|           7|           1|       33.8|  1.0|    0.5|       5.0|         0.0|                  1.0|        41.3|                 0.0|        0.0|           true|\n",
      "|       2| 2023-07-01 00:28:22|  2023-07-01 00:50:41|              1|         5.33|         1|                 N|         158|         236|           1|       25.4|  1.0|    0.5|      6.08|         0.0|                  1.0|       36.48|                 2.5|        0.0|           true|\n",
      "|       1| 2023-07-01 00:43:13|  2023-07-01 00:53:54|              1|          2.4|         1|                 N|         142|          68|           1|       13.5|  3.5|    0.5|       3.7|         0.0|                  1.0|        22.2|                 2.5|        0.0|           true|\n",
      "+--------+--------------------+---------------------+---------------+-------------+----------+------------------+------------+------------+------------+-----------+-----+-------+----------+------------+---------------------+------------+--------------------+-----------+---------------+\n",
      "only showing top 10 rows\n",
      "\n"
     ]
    },
    {
     "name": "stderr",
     "output_type": "stream",
     "text": [
      "                                                                                \r"
     ]
    }
   ],
   "source": [
    "curated_data = filteringOnCondition(curated_data)\n",
    "curated_data.count()\n",
    "curated_data.show(10, truncate=100)\n"
   ]
  },
  {
   "cell_type": "code",
   "execution_count": 7,
   "metadata": {},
   "outputs": [
    {
     "name": "stdout",
     "output_type": "stream",
     "text": [
      "+--------------------+--------+------+-------+---------------------+---------------+-------------+------------+-----------+-----+----------+------------+\n",
      "|tpep_pickup_datetime|pu_month|pu_day|pu_hour|tpep_dropoff_datetime|passenger_count|trip_distance|pulocationid|fare_amount|extra|tip_amount|total_amount|\n",
      "+--------------------+--------+------+-------+---------------------+---------------+-------------+------------+-----------+-----+----------+------------+\n",
      "| 2023-07-01 00:29:59|       7|     1|      0|  2023-07-01 00:40:15|              1|          1.8|         140|       12.1|  3.5|       5.1|        22.2|\n",
      "| 2023-07-01 00:38:29|       7|     1|      0|  2023-07-01 00:48:53|              1|         2.36|         142|       13.5|  1.0|       3.7|        22.2|\n",
      "| 2023-07-01 00:14:16|       7|     1|      0|  2023-07-01 00:29:13|              1|         4.36|          68|       19.8|  1.0|      4.96|       29.76|\n",
      "| 2023-07-01 00:29:32|       7|     1|      0|  2023-07-01 00:54:14|              1|         8.67|         138|       38.7|  6.0|       7.0|        64.0|\n",
      "| 2023-07-01 00:24:43|       7|     1|      0|  2023-07-01 00:47:49|              1|         9.11|         138|       39.4|  6.0|     11.19|       68.89|\n",
      "| 2023-07-01 00:35:28|       7|     1|      0|  2023-07-01 00:45:30|              1|         3.08|         166|       14.9|  1.0|      3.48|       20.88|\n",
      "| 2023-07-01 00:38:00|       7|     1|      0|  2023-07-01 00:54:47|              3|         3.88|         186|       19.8|  1.0|       1.0|        25.8|\n",
      "| 2023-07-01 00:02:08|       7|     1|      0|  2023-07-01 00:19:00|              1|          8.1|          95|       33.8|  1.0|       5.0|        41.3|\n",
      "| 2023-07-01 00:28:22|       7|     1|      0|  2023-07-01 00:50:41|              1|         5.33|         158|       25.4|  1.0|      6.08|       36.48|\n",
      "| 2023-07-01 00:43:13|       7|     1|      0|  2023-07-01 00:53:54|              1|          2.4|         142|       13.5|  3.5|       3.7|        22.2|\n",
      "| 2023-07-01 00:05:07|       7|     1|      0|  2023-07-01 00:10:03|              1|          1.2|         170|        7.9|  1.0|       0.0|        12.9|\n",
      "| 2023-07-01 00:29:24|       7|     1|      0|  2023-07-01 00:35:35|              1|         0.81|          68|        7.2|  1.0|      2.44|       14.64|\n",
      "| 2023-07-01 00:02:32|       7|     1|      0|  2023-07-01 00:09:44|              2|          0.9|         142|        8.6|  3.5|       2.7|        16.3|\n",
      "| 2023-07-01 00:12:01|       7|     1|      0|  2023-07-01 00:16:54|              2|          0.5|         249|        5.1|  3.5|       2.0|        12.1|\n",
      "| 2023-07-01 00:20:37|       7|     1|      0|  2023-07-01 00:27:03|              2|          1.0|         158|        7.9|  3.5|      2.55|       15.45|\n",
      "| 2023-07-01 00:30:18|       7|     1|      0|  2023-07-01 00:49:29|              2|          4.0|         186|       21.2|  3.5|       5.2|        31.4|\n",
      "| 2023-07-01 00:08:30|       7|     1|      0|  2023-07-01 00:21:20|              1|         2.25|         230|       13.5|  1.0|       3.7|        22.2|\n",
      "| 2023-07-01 00:58:26|       7|     1|      0|  2023-07-01 01:02:45|              2|          1.2|         137|        7.2|  3.5|       2.0|        14.2|\n",
      "| 2023-07-01 00:04:57|       7|     1|      0|  2023-07-01 00:33:13|              1|        11.86|         138|       49.9|  6.0|       5.0|        73.2|\n",
      "| 2023-07-01 00:08:38|       7|     1|      0|  2023-07-01 00:14:48|              1|          0.9|         113|        7.9|  1.0|      2.58|       15.48|\n",
      "+--------------------+--------+------+-------+---------------------+---------------+-------------+------------+-----------+-----+----------+------------+\n",
      "only showing top 20 rows\n",
      "\n"
     ]
    }
   ],
   "source": [
    "curated_data = featureExtracting(curated_data)\n",
    "curated_data = extractingDateAndTime(curated_data)\n",
    "curated_data.show(20, truncate=100)\n"
   ]
  },
  {
   "cell_type": "code",
   "execution_count": 8,
   "metadata": {},
   "outputs": [],
   "source": [
    "\n",
    "curated_data = curated_data.withColumn(\n",
    "    \"time_travel_minutes\",\n",
    "    expr(\"\"\"\n",
    "        (CAST((unix_timestamp(tpep_dropoff_datetime) - unix_timestamp(tpep_pickup_datetime)) AS DOUBLE) / 60)\n",
    "    \"\"\")   \n",
    ")\n",
    "curated_data = curated_data.withColumn(\n",
    "    'is_weekend',\n",
    "    F.when(F.dayofweek(F.col('tpep_pickup_datetime')).isin([6, 7]), 1).otherwise(0)\n",
    ")"
   ]
  },
  {
   "cell_type": "code",
   "execution_count": 9,
   "metadata": {},
   "outputs": [
    {
     "name": "stdout",
     "output_type": "stream",
     "text": [
      "+------------+--------------------+--------+------+-------+---------------------+---------------+-------------+-----------+-----+----------+------------+-------------------+----------+-----------------+\n",
      "|pulocationid|tpep_pickup_datetime|pu_month|pu_day|pu_hour|tpep_dropoff_datetime|passenger_count|trip_distance|fare_amount|extra|tip_amount|total_amount|time_travel_minutes|is_weekend|      pu_location|\n",
      "+------------+--------------------+--------+------+-------+---------------------+---------------+-------------+-----------+-----+----------+------------+-------------------+----------+-----------------+\n",
      "|         140| 2023-07-01 00:29:59|       7|     1|      0|  2023-07-01 00:40:15|              1|          1.8|       12.1|  3.5|       5.1|        22.2| 10.266666666666667|         1|        Manhattan|\n",
      "|         142| 2023-07-01 00:38:29|       7|     1|      0|  2023-07-01 00:48:53|              1|         2.36|       13.5|  1.0|       3.7|        22.2|               10.4|         1|        Manhattan|\n",
      "|          68| 2023-07-01 00:14:16|       7|     1|      0|  2023-07-01 00:29:13|              1|         4.36|       19.8|  1.0|      4.96|       29.76|              14.95|         1|        Manhattan|\n",
      "|         138| 2023-07-01 00:29:32|       7|     1|      0|  2023-07-01 00:54:14|              1|         8.67|       38.7|  6.0|       7.0|        64.0|               24.7|         1|LaGuardia Airport|\n",
      "|         138| 2023-07-01 00:24:43|       7|     1|      0|  2023-07-01 00:47:49|              1|         9.11|       39.4|  6.0|     11.19|       68.89|               23.1|         1|LaGuardia Airport|\n",
      "|         166| 2023-07-01 00:35:28|       7|     1|      0|  2023-07-01 00:45:30|              1|         3.08|       14.9|  1.0|      3.48|       20.88| 10.033333333333333|         1|        Manhattan|\n",
      "|         186| 2023-07-01 00:38:00|       7|     1|      0|  2023-07-01 00:54:47|              3|         3.88|       19.8|  1.0|       1.0|        25.8| 16.783333333333335|         1|        Manhattan|\n",
      "|          95| 2023-07-01 00:02:08|       7|     1|      0|  2023-07-01 00:19:00|              1|          8.1|       33.8|  1.0|       5.0|        41.3| 16.866666666666667|         1|           Queens|\n",
      "|         158| 2023-07-01 00:28:22|       7|     1|      0|  2023-07-01 00:50:41|              1|         5.33|       25.4|  1.0|      6.08|       36.48| 22.316666666666666|         1|        Manhattan|\n",
      "|         142| 2023-07-01 00:43:13|       7|     1|      0|  2023-07-01 00:53:54|              1|          2.4|       13.5|  3.5|       3.7|        22.2| 10.683333333333334|         1|        Manhattan|\n",
      "|         170| 2023-07-01 00:05:07|       7|     1|      0|  2023-07-01 00:10:03|              1|          1.2|        7.9|  1.0|       0.0|        12.9|  4.933333333333334|         1|        Manhattan|\n",
      "|          68| 2023-07-01 00:29:24|       7|     1|      0|  2023-07-01 00:35:35|              1|         0.81|        7.2|  1.0|      2.44|       14.64|  6.183333333333334|         1|        Manhattan|\n",
      "|         142| 2023-07-01 00:02:32|       7|     1|      0|  2023-07-01 00:09:44|              2|          0.9|        8.6|  3.5|       2.7|        16.3|                7.2|         1|        Manhattan|\n",
      "|         249| 2023-07-01 00:12:01|       7|     1|      0|  2023-07-01 00:16:54|              2|          0.5|        5.1|  3.5|       2.0|        12.1|  4.883333333333334|         1|        Manhattan|\n",
      "|         158| 2023-07-01 00:20:37|       7|     1|      0|  2023-07-01 00:27:03|              2|          1.0|        7.9|  3.5|      2.55|       15.45|  6.433333333333334|         1|        Manhattan|\n",
      "|         186| 2023-07-01 00:30:18|       7|     1|      0|  2023-07-01 00:49:29|              2|          4.0|       21.2|  3.5|       5.2|        31.4| 19.183333333333334|         1|        Manhattan|\n",
      "|         230| 2023-07-01 00:08:30|       7|     1|      0|  2023-07-01 00:21:20|              1|         2.25|       13.5|  1.0|       3.7|        22.2| 12.833333333333334|         1|        Manhattan|\n",
      "|         137| 2023-07-01 00:58:26|       7|     1|      0|  2023-07-01 01:02:45|              2|          1.2|        7.2|  3.5|       2.0|        14.2|  4.316666666666666|         1|        Manhattan|\n",
      "|         138| 2023-07-01 00:04:57|       7|     1|      0|  2023-07-01 00:33:13|              1|        11.86|       49.9|  6.0|       5.0|        73.2| 28.266666666666666|         1|LaGuardia Airport|\n",
      "|         113| 2023-07-01 00:08:38|       7|     1|      0|  2023-07-01 00:14:48|              1|          0.9|        7.9|  1.0|      2.58|       15.48|  6.166666666666667|         1|        Manhattan|\n",
      "+------------+--------------------+--------+------+-------+---------------------+---------------+-------------+-----------+-----+----------+------------+-------------------+----------+-----------------+\n",
      "only showing top 20 rows\n",
      "\n"
     ]
    }
   ],
   "source": [
    "taxi_zones_df = spark.read.csv('../data/taxi_zones/taxi+_zone_lookup.csv', header=True, inferSchema=True)\n",
    "taxi_zones_df = taxi_zones_df.withColumnRenamed('LocationID', 'pulocationid')\n",
    "curated_data = joiningBoroughs(curated_data,taxi_zones_df)\n",
    "curated_data.show()\n"
   ]
  },
  {
   "cell_type": "code",
   "execution_count": 10,
   "metadata": {},
   "outputs": [],
   "source": [
    "# columns = curated_data.columns\n",
    "\n",
    "# # Count nulls in all columns\n",
    "# null_counts = {column: curated_data.filter(col(column).isNull()).count() for column in columns}\n",
    "\n",
    "# # Print the results\n",
    "# for column, count in null_counts.items():\n",
    "#     print(f\"Number of null values in '{column}': {count}\")\n"
   ]
  },
  {
   "cell_type": "code",
   "execution_count": 11,
   "metadata": {},
   "outputs": [],
   "source": [
    "curated_data = curated_data.withColumn(\"tpep_pickup_datetime\", F.date_format(\"tpep_pickup_datetime\", \"yyyy-MM-dd\"))\n",
    "weather_df = spark.read.csv(\"../data/hourly_weather_2023.csv\", header=True, inferSchema=True)\n",
    "curated_data = joiningWeatherData(curated_data, weather_df)\n",
    "curated_data = dropNull(curated_data)"
   ]
  },
  {
   "cell_type": "code",
   "execution_count": 12,
   "metadata": {},
   "outputs": [
    {
     "name": "stderr",
     "output_type": "stream",
     "text": [
      "                                                                                \r"
     ]
    },
    {
     "data": {
      "text/plain": [
       "13838582"
      ]
     },
     "execution_count": 12,
     "metadata": {},
     "output_type": "execute_result"
    }
   ],
   "source": [
    "curated_data.count()"
   ]
  },
  {
   "cell_type": "code",
   "execution_count": 13,
   "metadata": {},
   "outputs": [
    {
     "data": {
      "text/html": [
       "<table border='1'>\n",
       "<tr><th>pu_location</th><th>pu_month</th><th>pu_day</th><th>pu_hour</th><th>is_weekend</th><th>time_travel_minutes</th><th>passenger_count</th><th>trip_distance</th><th>fare_amount</th><th>extra</th><th>tip_amount</th><th>total_amount</th><th>wind_speed</th><th>dew_point</th><th>atmospheric_pressure</th><th>temperature</th></tr>\n",
       "<tr><td>Manhattan</td><td>7</td><td>1</td><td>0</td><td>1</td><td>10.2667</td><td>1</td><td>1.8</td><td>12.1</td><td>3.5</td><td>5.1</td><td>22.2</td><td>0.0</td><td>13.3</td><td>1017.1</td><td>23.9</td></tr>\n",
       "<tr><td>Manhattan</td><td>7</td><td>1</td><td>0</td><td>1</td><td>10.4000</td><td>1</td><td>2.36</td><td>13.5</td><td>1.0</td><td>3.7</td><td>22.2</td><td>0.0</td><td>13.3</td><td>1017.1</td><td>23.9</td></tr>\n",
       "<tr><td>Manhattan</td><td>7</td><td>1</td><td>0</td><td>1</td><td>14.9500</td><td>1</td><td>4.36</td><td>19.8</td><td>1.0</td><td>4.96</td><td>29.76</td><td>0.0</td><td>13.3</td><td>1017.1</td><td>23.9</td></tr>\n",
       "<tr><td>LaGuardia Airport</td><td>7</td><td>1</td><td>0</td><td>1</td><td>24.7000</td><td>1</td><td>8.67</td><td>38.7</td><td>6.0</td><td>7.0</td><td>64.0</td><td>0.0</td><td>13.3</td><td>1017.1</td><td>23.9</td></tr>\n",
       "<tr><td>LaGuardia Airport</td><td>7</td><td>1</td><td>0</td><td>1</td><td>23.1000</td><td>1</td><td>9.11</td><td>39.4</td><td>6.0</td><td>11.19</td><td>68.89</td><td>0.0</td><td>13.3</td><td>1017.1</td><td>23.9</td></tr>\n",
       "<tr><td>Manhattan</td><td>7</td><td>1</td><td>0</td><td>1</td><td>10.0333</td><td>1</td><td>3.08</td><td>14.9</td><td>1.0</td><td>3.48</td><td>20.88</td><td>0.0</td><td>13.3</td><td>1017.1</td><td>23.9</td></tr>\n",
       "<tr><td>Manhattan</td><td>7</td><td>1</td><td>0</td><td>1</td><td>16.7833</td><td>3</td><td>3.88</td><td>19.8</td><td>1.0</td><td>1.0</td><td>25.8</td><td>0.0</td><td>13.3</td><td>1017.1</td><td>23.9</td></tr>\n",
       "<tr><td>Queens</td><td>7</td><td>1</td><td>0</td><td>1</td><td>16.8667</td><td>1</td><td>8.1</td><td>33.8</td><td>1.0</td><td>5.0</td><td>41.3</td><td>0.0</td><td>13.3</td><td>1017.1</td><td>23.9</td></tr>\n",
       "<tr><td>Manhattan</td><td>7</td><td>1</td><td>0</td><td>1</td><td>22.3167</td><td>1</td><td>5.33</td><td>25.4</td><td>1.0</td><td>6.08</td><td>36.48</td><td>0.0</td><td>13.3</td><td>1017.1</td><td>23.9</td></tr>\n",
       "<tr><td>Manhattan</td><td>7</td><td>1</td><td>0</td><td>1</td><td>10.6833</td><td>1</td><td>2.4</td><td>13.5</td><td>3.5</td><td>3.7</td><td>22.2</td><td>0.0</td><td>13.3</td><td>1017.1</td><td>23.9</td></tr>\n",
       "<tr><td>Manhattan</td><td>7</td><td>1</td><td>0</td><td>1</td><td>4.9333</td><td>1</td><td>1.2</td><td>7.9</td><td>1.0</td><td>0.0</td><td>12.9</td><td>0.0</td><td>13.3</td><td>1017.1</td><td>23.9</td></tr>\n",
       "<tr><td>Manhattan</td><td>7</td><td>1</td><td>0</td><td>1</td><td>6.1833</td><td>1</td><td>0.81</td><td>7.2</td><td>1.0</td><td>2.44</td><td>14.64</td><td>0.0</td><td>13.3</td><td>1017.1</td><td>23.9</td></tr>\n",
       "<tr><td>Manhattan</td><td>7</td><td>1</td><td>0</td><td>1</td><td>7.2000</td><td>2</td><td>0.9</td><td>8.6</td><td>3.5</td><td>2.7</td><td>16.3</td><td>0.0</td><td>13.3</td><td>1017.1</td><td>23.9</td></tr>\n",
       "<tr><td>Manhattan</td><td>7</td><td>1</td><td>0</td><td>1</td><td>4.8833</td><td>2</td><td>0.5</td><td>5.1</td><td>3.5</td><td>2.0</td><td>12.1</td><td>0.0</td><td>13.3</td><td>1017.1</td><td>23.9</td></tr>\n",
       "<tr><td>Manhattan</td><td>7</td><td>1</td><td>0</td><td>1</td><td>6.4333</td><td>2</td><td>1.0</td><td>7.9</td><td>3.5</td><td>2.55</td><td>15.45</td><td>0.0</td><td>13.3</td><td>1017.1</td><td>23.9</td></tr>\n",
       "<tr><td>Manhattan</td><td>7</td><td>1</td><td>0</td><td>1</td><td>19.1833</td><td>2</td><td>4.0</td><td>21.2</td><td>3.5</td><td>5.2</td><td>31.4</td><td>0.0</td><td>13.3</td><td>1017.1</td><td>23.9</td></tr>\n",
       "<tr><td>Manhattan</td><td>7</td><td>1</td><td>0</td><td>1</td><td>12.8333</td><td>1</td><td>2.25</td><td>13.5</td><td>1.0</td><td>3.7</td><td>22.2</td><td>0.0</td><td>13.3</td><td>1017.1</td><td>23.9</td></tr>\n",
       "<tr><td>Manhattan</td><td>7</td><td>1</td><td>0</td><td>1</td><td>4.3167</td><td>2</td><td>1.2</td><td>7.2</td><td>3.5</td><td>2.0</td><td>14.2</td><td>0.0</td><td>13.3</td><td>1017.1</td><td>23.9</td></tr>\n",
       "<tr><td>LaGuardia Airport</td><td>7</td><td>1</td><td>0</td><td>1</td><td>28.2667</td><td>1</td><td>11.86</td><td>49.9</td><td>6.0</td><td>5.0</td><td>73.2</td><td>0.0</td><td>13.3</td><td>1017.1</td><td>23.9</td></tr>\n",
       "<tr><td>Manhattan</td><td>7</td><td>1</td><td>0</td><td>1</td><td>6.1667</td><td>1</td><td>0.9</td><td>7.9</td><td>1.0</td><td>2.58</td><td>15.48</td><td>0.0</td><td>13.3</td><td>1017.1</td><td>23.9</td></tr>\n",
       "</table>\n",
       "only showing top 20 rows\n"
      ],
      "text/plain": [
       "+-----------------+--------+------+-------+----------+-------------------+---------------+-------------+-----------+-----+----------+------------+----------+---------+--------------------+-----------+\n",
       "|      pu_location|pu_month|pu_day|pu_hour|is_weekend|time_travel_minutes|passenger_count|trip_distance|fare_amount|extra|tip_amount|total_amount|wind_speed|dew_point|atmospheric_pressure|temperature|\n",
       "+-----------------+--------+------+-------+----------+-------------------+---------------+-------------+-----------+-----+----------+------------+----------+---------+--------------------+-----------+\n",
       "|        Manhattan|       7|     1|      0|         1|            10.2667|              1|          1.8|       12.1|  3.5|       5.1|        22.2|       0.0|     13.3|              1017.1|       23.9|\n",
       "|        Manhattan|       7|     1|      0|         1|            10.4000|              1|         2.36|       13.5|  1.0|       3.7|        22.2|       0.0|     13.3|              1017.1|       23.9|\n",
       "|        Manhattan|       7|     1|      0|         1|            14.9500|              1|         4.36|       19.8|  1.0|      4.96|       29.76|       0.0|     13.3|              1017.1|       23.9|\n",
       "|LaGuardia Airport|       7|     1|      0|         1|            24.7000|              1|         8.67|       38.7|  6.0|       7.0|        64.0|       0.0|     13.3|              1017.1|       23.9|\n",
       "|LaGuardia Airport|       7|     1|      0|         1|            23.1000|              1|         9.11|       39.4|  6.0|     11.19|       68.89|       0.0|     13.3|              1017.1|       23.9|\n",
       "|        Manhattan|       7|     1|      0|         1|            10.0333|              1|         3.08|       14.9|  1.0|      3.48|       20.88|       0.0|     13.3|              1017.1|       23.9|\n",
       "|        Manhattan|       7|     1|      0|         1|            16.7833|              3|         3.88|       19.8|  1.0|       1.0|        25.8|       0.0|     13.3|              1017.1|       23.9|\n",
       "|           Queens|       7|     1|      0|         1|            16.8667|              1|          8.1|       33.8|  1.0|       5.0|        41.3|       0.0|     13.3|              1017.1|       23.9|\n",
       "|        Manhattan|       7|     1|      0|         1|            22.3167|              1|         5.33|       25.4|  1.0|      6.08|       36.48|       0.0|     13.3|              1017.1|       23.9|\n",
       "|        Manhattan|       7|     1|      0|         1|            10.6833|              1|          2.4|       13.5|  3.5|       3.7|        22.2|       0.0|     13.3|              1017.1|       23.9|\n",
       "|        Manhattan|       7|     1|      0|         1|             4.9333|              1|          1.2|        7.9|  1.0|       0.0|        12.9|       0.0|     13.3|              1017.1|       23.9|\n",
       "|        Manhattan|       7|     1|      0|         1|             6.1833|              1|         0.81|        7.2|  1.0|      2.44|       14.64|       0.0|     13.3|              1017.1|       23.9|\n",
       "|        Manhattan|       7|     1|      0|         1|             7.2000|              2|          0.9|        8.6|  3.5|       2.7|        16.3|       0.0|     13.3|              1017.1|       23.9|\n",
       "|        Manhattan|       7|     1|      0|         1|             4.8833|              2|          0.5|        5.1|  3.5|       2.0|        12.1|       0.0|     13.3|              1017.1|       23.9|\n",
       "|        Manhattan|       7|     1|      0|         1|             6.4333|              2|          1.0|        7.9|  3.5|      2.55|       15.45|       0.0|     13.3|              1017.1|       23.9|\n",
       "|        Manhattan|       7|     1|      0|         1|            19.1833|              2|          4.0|       21.2|  3.5|       5.2|        31.4|       0.0|     13.3|              1017.1|       23.9|\n",
       "|        Manhattan|       7|     1|      0|         1|            12.8333|              1|         2.25|       13.5|  1.0|       3.7|        22.2|       0.0|     13.3|              1017.1|       23.9|\n",
       "|        Manhattan|       7|     1|      0|         1|             4.3167|              2|          1.2|        7.2|  3.5|       2.0|        14.2|       0.0|     13.3|              1017.1|       23.9|\n",
       "|LaGuardia Airport|       7|     1|      0|         1|            28.2667|              1|        11.86|       49.9|  6.0|       5.0|        73.2|       0.0|     13.3|              1017.1|       23.9|\n",
       "|        Manhattan|       7|     1|      0|         1|             6.1667|              1|          0.9|        7.9|  1.0|      2.58|       15.48|       0.0|     13.3|              1017.1|       23.9|\n",
       "+-----------------+--------+------+-------+----------+-------------------+---------------+-------------+-----------+-----+----------+------------+----------+---------+--------------------+-----------+\n",
       "only showing top 20 rows"
      ]
     },
     "execution_count": 13,
     "metadata": {},
     "output_type": "execute_result"
    },
    {
     "name": "stderr",
     "output_type": "stream",
     "text": [
      "24/08/18 18:54:50 WARN GarbageCollectionMetrics: To enable non-built-in garbage collector(s) List(G1 Concurrent GC), users should configure it(them) to spark.eventLog.gcMetrics.youngGenerationGarbageCollectors or spark.eventLog.gcMetrics.oldGenerationGarbageCollectors\n"
     ]
    }
   ],
   "source": [
    "curated_data = reFormat(curated_data)\n",
    "curated_data"
   ]
  },
  {
   "cell_type": "code",
   "execution_count": 22,
   "metadata": {},
   "outputs": [
    {
     "name": "stderr",
     "output_type": "stream",
     "text": [
      "                                                                                \r"
     ]
    },
    {
     "data": {
      "text/plain": [
       "13838582"
      ]
     },
     "execution_count": 22,
     "metadata": {},
     "output_type": "execute_result"
    }
   ],
   "source": [
    "curated_data.count()"
   ]
  },
  {
   "cell_type": "code",
   "execution_count": 14,
   "metadata": {},
   "outputs": [
    {
     "name": "stderr",
     "output_type": "stream",
     "text": [
      "                                                                                \r"
     ]
    },
    {
     "data": {
      "text/plain": [
       "['Newark Airport',\n",
       " 'Queens',\n",
       " 'LaGuardia Airport',\n",
       " 'Brooklyn',\n",
       " 'Staten Island',\n",
       " 'Manhattan',\n",
       " 'JFK Airport',\n",
       " 'Bronx']"
      ]
     },
     "execution_count": 14,
     "metadata": {},
     "output_type": "execute_result"
    }
   ],
   "source": [
    "distinct_locations = curated_data.select(\"pu_location\").distinct().collect()\n",
    "\n",
    "# Extract and print the distinct pu_location values\n",
    "locations = [row[\"pu_location\"] for row in distinct_locations]\n",
    "locations"
   ]
  },
  {
   "cell_type": "code",
   "execution_count": 16,
   "metadata": {},
   "outputs": [
    {
     "name": "stderr",
     "output_type": "stream",
     "text": [
      "                                                                                \r"
     ]
    },
    {
     "name": "stdout",
     "output_type": "stream",
     "text": [
      "Data for Newark Airport saved to ../data/curated/newark_airport.parquet\n"
     ]
    },
    {
     "name": "stderr",
     "output_type": "stream",
     "text": [
      "                                                                                \r"
     ]
    },
    {
     "name": "stdout",
     "output_type": "stream",
     "text": [
      "Data for Queens saved to ../data/curated/queens.parquet\n"
     ]
    },
    {
     "name": "stderr",
     "output_type": "stream",
     "text": [
      "                                                                                \r"
     ]
    },
    {
     "name": "stdout",
     "output_type": "stream",
     "text": [
      "Data for LaGuardia Airport saved to ../data/curated/laguardia_airport.parquet\n"
     ]
    },
    {
     "name": "stderr",
     "output_type": "stream",
     "text": [
      "                                                                                \r"
     ]
    },
    {
     "name": "stdout",
     "output_type": "stream",
     "text": [
      "Data for Brooklyn saved to ../data/curated/brooklyn.parquet\n"
     ]
    },
    {
     "name": "stderr",
     "output_type": "stream",
     "text": [
      "                                                                                \r"
     ]
    },
    {
     "name": "stdout",
     "output_type": "stream",
     "text": [
      "Data for Staten Island saved to ../data/curated/staten_island.parquet\n"
     ]
    },
    {
     "name": "stderr",
     "output_type": "stream",
     "text": [
      "                                                                                \r"
     ]
    },
    {
     "name": "stdout",
     "output_type": "stream",
     "text": [
      "Data for Manhattan saved to ../data/curated/manhattan.parquet\n"
     ]
    },
    {
     "name": "stderr",
     "output_type": "stream",
     "text": [
      "                                                                                \r"
     ]
    },
    {
     "name": "stdout",
     "output_type": "stream",
     "text": [
      "Data for JFK Airport saved to ../data/curated/jfk_airport.parquet\n"
     ]
    },
    {
     "name": "stderr",
     "output_type": "stream",
     "text": [
      "[Stage 81:===================>                                      (3 + 6) / 9]\r"
     ]
    },
    {
     "name": "stdout",
     "output_type": "stream",
     "text": [
      "Data for Bronx saved to ../data/curated/bronx.parquet\n"
     ]
    },
    {
     "name": "stderr",
     "output_type": "stream",
     "text": [
      "                                                                                \r"
     ]
    }
   ],
   "source": [
    "\n",
    "# Directory to save the files\n",
    "save_dir = \"../data/curated/\"\n",
    "\n",
    "# Loop over each location, filter the DataFrame, and save the result\n",
    "for location in locations:\n",
    "    # Filter DataFrame for the current location\n",
    "    filtered_df = curated_data.filter(curated_data.pu_location == location)\n",
    "    \n",
    "    # Define the file path, removing spaces for simplicity\n",
    "    file_path = f\"{save_dir}{location.replace(' ', '_').lower()}.parquet\"\n",
    "    \n",
    "    # Save the filtered DataFrame\n",
    "    filtered_df.write.mode(\"overwrite\").parquet(file_path)\n",
    "\n",
    "    print(f\"Data for {location} saved to {file_path}\")"
   ]
  },
  {
   "cell_type": "code",
   "execution_count": 21,
   "metadata": {},
   "outputs": [
    {
     "name": "stdout",
     "output_type": "stream",
     "text": [
      "Total rows in Bronx: 1785\n",
      "Total rows in Brooklyn: 42173\n",
      "Total rows in Manhattan: 12503022\n",
      "Total rows in Staten Island: 37\n",
      "Total rows in Queens: 99144\n",
      "Total rows in Laguardia Airport: 528527\n",
      "Total rows in Jfk Airport: 663839\n",
      "Total rows in Newark Airport: 55\n",
      "\n",
      "Total rows across all locations: 13838582\n"
     ]
    }
   ],
   "source": [
    "locations = [\"bronx\", \"brooklyn\", \"manhattan\", \"staten_island\", \"queens\", \n",
    "             \"laguardia_airport\", \"jfk_airport\", \"newark_airport\"]\n",
    "\n",
    "# Directory where the files were saved\n",
    "save_dir = \"../data/curated/\"\n",
    "\n",
    "# Initialize a variable to keep the sum of all counts\n",
    "total_count = 0\n",
    "\n",
    "# Loop over each location, read the corresponding file, and accumulate the total length\n",
    "for location in locations:\n",
    "    # Define the file path\n",
    "    file_path = f\"{save_dir}{location}.parquet\"\n",
    "    \n",
    "    # Read the Parquet file into a DataFrame\n",
    "    df = spark.read.parquet(file_path)\n",
    "    \n",
    "    # Count the number of rows in the DataFrame\n",
    "    count = df.count()\n",
    "    \n",
    "    # Add the count to the total_count\n",
    "    total_count += count\n",
    "    \n",
    "    # Print the count for the current location\n",
    "    print(f\"Total rows in {location.replace('_', ' ').title()}: {count}\")\n",
    "\n",
    "# Print the sum of all counts\n",
    "print(f\"\\nTotal rows across all locations: {total_count}\")\n"
   ]
  },
  {
   "cell_type": "code",
   "execution_count": 24,
   "metadata": {},
   "outputs": [
    {
     "data": {
      "text/html": [
       "<table border='1'>\n",
       "<tr><th>pu_location</th><th>pu_month</th><th>pu_day</th><th>pu_hour</th><th>is_weekend</th><th>time_travel_minutes</th><th>passenger_count</th><th>trip_distance</th><th>fare_amount</th><th>extra</th><th>tip_amount</th><th>total_amount</th><th>wind_speed</th><th>dew_point</th><th>atmospheric_pressure</th><th>temperature</th></tr>\n",
       "<tr><td>Manhattan</td><td>12</td><td>1</td><td>0</td><td>1</td><td>13.6333</td><td>2</td><td>2.2</td><td>13.5</td><td>3.5</td><td>3.0</td><td>21.5</td><td>4.1</td><td>-2.8</td><td>1020.1</td><td>9.4</td></tr>\n",
       "<tr><td>Manhattan</td><td>12</td><td>1</td><td>0</td><td>1</td><td>7.2667</td><td>2</td><td>2.2</td><td>11.4</td><td>1.0</td><td>2.0</td><td>18.4</td><td>4.1</td><td>-2.8</td><td>1020.1</td><td>9.4</td></tr>\n",
       "<tr><td>Manhattan</td><td>12</td><td>1</td><td>0</td><td>1</td><td>16.3667</td><td>1</td><td>5.33</td><td>24.7</td><td>1.0</td><td>3.0</td><td>32.7</td><td>4.1</td><td>-2.8</td><td>1020.1</td><td>9.4</td></tr>\n",
       "<tr><td>Manhattan</td><td>12</td><td>1</td><td>0</td><td>1</td><td>3.3500</td><td>1</td><td>0.76</td><td>5.8</td><td>1.0</td><td>1.0</td><td>11.8</td><td>4.1</td><td>-2.8</td><td>1020.1</td><td>9.4</td></tr>\n",
       "<tr><td>Manhattan</td><td>12</td><td>1</td><td>0</td><td>1</td><td>15.5333</td><td>1</td><td>3.33</td><td>17.7</td><td>1.0</td><td>3.4</td><td>26.1</td><td>4.1</td><td>-2.8</td><td>1020.1</td><td>9.4</td></tr>\n",
       "<tr><td>Manhattan</td><td>12</td><td>1</td><td>0</td><td>1</td><td>7.6500</td><td>1</td><td>2.1</td><td>12.1</td><td>3.5</td><td>3.42</td><td>20.52</td><td>4.1</td><td>-2.8</td><td>1020.1</td><td>9.4</td></tr>\n",
       "<tr><td>Manhattan</td><td>12</td><td>1</td><td>0</td><td>1</td><td>5.9333</td><td>2</td><td>0.5</td><td>7.2</td><td>3.5</td><td>2.4</td><td>14.6</td><td>4.1</td><td>-2.8</td><td>1020.1</td><td>9.4</td></tr>\n",
       "<tr><td>Manhattan</td><td>12</td><td>1</td><td>0</td><td>1</td><td>15.8167</td><td>1</td><td>2.6</td><td>14.2</td><td>3.5</td><td>3.85</td><td>23.05</td><td>4.1</td><td>-2.8</td><td>1020.1</td><td>9.4</td></tr>\n",
       "<tr><td>Manhattan</td><td>12</td><td>1</td><td>0</td><td>1</td><td>14.3333</td><td>1</td><td>2.7</td><td>16.3</td><td>3.5</td><td>5.3</td><td>26.6</td><td>4.1</td><td>-2.8</td><td>1020.1</td><td>9.4</td></tr>\n",
       "<tr><td>Manhattan</td><td>12</td><td>1</td><td>0</td><td>1</td><td>2.7333</td><td>1</td><td>0.8</td><td>5.8</td><td>3.5</td><td>2.15</td><td>12.95</td><td>4.1</td><td>-2.8</td><td>1020.1</td><td>9.4</td></tr>\n",
       "<tr><td>Manhattan</td><td>12</td><td>1</td><td>0</td><td>1</td><td>3.6833</td><td>1</td><td>0.66</td><td>5.8</td><td>1.0</td><td>3.24</td><td>14.04</td><td>4.1</td><td>-2.8</td><td>1020.1</td><td>9.4</td></tr>\n",
       "<tr><td>Manhattan</td><td>12</td><td>1</td><td>0</td><td>1</td><td>5.4667</td><td>1</td><td>0.82</td><td>7.2</td><td>1.0</td><td>3.05</td><td>15.25</td><td>4.1</td><td>-2.8</td><td>1020.1</td><td>9.4</td></tr>\n",
       "<tr><td>Manhattan</td><td>12</td><td>1</td><td>0</td><td>1</td><td>8.9833</td><td>1</td><td>1.7</td><td>10.0</td><td>3.5</td><td>3.75</td><td>18.75</td><td>4.1</td><td>-2.8</td><td>1020.1</td><td>9.4</td></tr>\n",
       "<tr><td>Manhattan</td><td>12</td><td>1</td><td>0</td><td>1</td><td>6.1000</td><td>1</td><td>1.6</td><td>8.6</td><td>3.5</td><td>2.7</td><td>16.3</td><td>4.1</td><td>-2.8</td><td>1020.1</td><td>9.4</td></tr>\n",
       "<tr><td>Manhattan</td><td>12</td><td>1</td><td>0</td><td>1</td><td>2.2833</td><td>3</td><td>0.4</td><td>5.1</td><td>3.5</td><td>0.0</td><td>10.1</td><td>4.1</td><td>-2.8</td><td>1020.1</td><td>9.4</td></tr>\n",
       "<tr><td>Manhattan</td><td>12</td><td>1</td><td>0</td><td>1</td><td>5.2000</td><td>1</td><td>0.77</td><td>7.2</td><td>1.0</td><td>5.0</td><td>14.7</td><td>4.1</td><td>-2.8</td><td>1020.1</td><td>9.4</td></tr>\n",
       "<tr><td>Manhattan</td><td>12</td><td>1</td><td>0</td><td>1</td><td>1.1833</td><td>1</td><td>0.1</td><td>3.7</td><td>3.5</td><td>1.7</td><td>10.4</td><td>4.1</td><td>-2.8</td><td>1020.1</td><td>9.4</td></tr>\n",
       "<tr><td>Manhattan</td><td>12</td><td>1</td><td>0</td><td>1</td><td>7.5333</td><td>2</td><td>1.7</td><td>10.0</td><td>3.5</td><td>1.5</td><td>16.5</td><td>4.1</td><td>-2.8</td><td>1020.1</td><td>9.4</td></tr>\n",
       "<tr><td>Manhattan</td><td>12</td><td>1</td><td>0</td><td>1</td><td>17.0667</td><td>1</td><td>3.9</td><td>19.1</td><td>3.5</td><td>4.8</td><td>28.9</td><td>4.1</td><td>-2.8</td><td>1020.1</td><td>9.4</td></tr>\n",
       "<tr><td>Manhattan</td><td>12</td><td>1</td><td>0</td><td>1</td><td>6.0167</td><td>1</td><td>1.09</td><td>7.9</td><td>1.0</td><td>2.58</td><td>15.48</td><td>4.1</td><td>-2.8</td><td>1020.1</td><td>9.4</td></tr>\n",
       "</table>\n",
       "only showing top 20 rows\n"
      ],
      "text/plain": [
       "+-----------+--------+------+-------+----------+-------------------+---------------+-------------+-----------+-----+----------+------------+----------+---------+--------------------+-----------+\n",
       "|pu_location|pu_month|pu_day|pu_hour|is_weekend|time_travel_minutes|passenger_count|trip_distance|fare_amount|extra|tip_amount|total_amount|wind_speed|dew_point|atmospheric_pressure|temperature|\n",
       "+-----------+--------+------+-------+----------+-------------------+---------------+-------------+-----------+-----+----------+------------+----------+---------+--------------------+-----------+\n",
       "|  Manhattan|      12|     1|      0|         1|            13.6333|              2|          2.2|       13.5|  3.5|       3.0|        21.5|       4.1|     -2.8|              1020.1|        9.4|\n",
       "|  Manhattan|      12|     1|      0|         1|             7.2667|              2|          2.2|       11.4|  1.0|       2.0|        18.4|       4.1|     -2.8|              1020.1|        9.4|\n",
       "|  Manhattan|      12|     1|      0|         1|            16.3667|              1|         5.33|       24.7|  1.0|       3.0|        32.7|       4.1|     -2.8|              1020.1|        9.4|\n",
       "|  Manhattan|      12|     1|      0|         1|             3.3500|              1|         0.76|        5.8|  1.0|       1.0|        11.8|       4.1|     -2.8|              1020.1|        9.4|\n",
       "|  Manhattan|      12|     1|      0|         1|            15.5333|              1|         3.33|       17.7|  1.0|       3.4|        26.1|       4.1|     -2.8|              1020.1|        9.4|\n",
       "|  Manhattan|      12|     1|      0|         1|             7.6500|              1|          2.1|       12.1|  3.5|      3.42|       20.52|       4.1|     -2.8|              1020.1|        9.4|\n",
       "|  Manhattan|      12|     1|      0|         1|             5.9333|              2|          0.5|        7.2|  3.5|       2.4|        14.6|       4.1|     -2.8|              1020.1|        9.4|\n",
       "|  Manhattan|      12|     1|      0|         1|            15.8167|              1|          2.6|       14.2|  3.5|      3.85|       23.05|       4.1|     -2.8|              1020.1|        9.4|\n",
       "|  Manhattan|      12|     1|      0|         1|            14.3333|              1|          2.7|       16.3|  3.5|       5.3|        26.6|       4.1|     -2.8|              1020.1|        9.4|\n",
       "|  Manhattan|      12|     1|      0|         1|             2.7333|              1|          0.8|        5.8|  3.5|      2.15|       12.95|       4.1|     -2.8|              1020.1|        9.4|\n",
       "|  Manhattan|      12|     1|      0|         1|             3.6833|              1|         0.66|        5.8|  1.0|      3.24|       14.04|       4.1|     -2.8|              1020.1|        9.4|\n",
       "|  Manhattan|      12|     1|      0|         1|             5.4667|              1|         0.82|        7.2|  1.0|      3.05|       15.25|       4.1|     -2.8|              1020.1|        9.4|\n",
       "|  Manhattan|      12|     1|      0|         1|             8.9833|              1|          1.7|       10.0|  3.5|      3.75|       18.75|       4.1|     -2.8|              1020.1|        9.4|\n",
       "|  Manhattan|      12|     1|      0|         1|             6.1000|              1|          1.6|        8.6|  3.5|       2.7|        16.3|       4.1|     -2.8|              1020.1|        9.4|\n",
       "|  Manhattan|      12|     1|      0|         1|             2.2833|              3|          0.4|        5.1|  3.5|       0.0|        10.1|       4.1|     -2.8|              1020.1|        9.4|\n",
       "|  Manhattan|      12|     1|      0|         1|             5.2000|              1|         0.77|        7.2|  1.0|       5.0|        14.7|       4.1|     -2.8|              1020.1|        9.4|\n",
       "|  Manhattan|      12|     1|      0|         1|             1.1833|              1|          0.1|        3.7|  3.5|       1.7|        10.4|       4.1|     -2.8|              1020.1|        9.4|\n",
       "|  Manhattan|      12|     1|      0|         1|             7.5333|              2|          1.7|       10.0|  3.5|       1.5|        16.5|       4.1|     -2.8|              1020.1|        9.4|\n",
       "|  Manhattan|      12|     1|      0|         1|            17.0667|              1|          3.9|       19.1|  3.5|       4.8|        28.9|       4.1|     -2.8|              1020.1|        9.4|\n",
       "|  Manhattan|      12|     1|      0|         1|             6.0167|              1|         1.09|        7.9|  1.0|      2.58|       15.48|       4.1|     -2.8|              1020.1|        9.4|\n",
       "+-----------+--------+------+-------+----------+-------------------+---------------+-------------+-----------+-----+----------+------------+----------+---------+--------------------+-----------+\n",
       "only showing top 20 rows"
      ]
     },
     "execution_count": 24,
     "metadata": {},
     "output_type": "execute_result"
    }
   ],
   "source": [
    "file_path = '../data/curated/manhattan.parquet'\n",
    "df = spark.read.parquet(file_path)\n",
    "df"
   ]
  },
  {
   "cell_type": "code",
   "execution_count": null,
   "metadata": {},
   "outputs": [],
   "source": []
  }
 ],
 "metadata": {
  "kernelspec": {
   "display_name": "Python 3",
   "language": "python",
   "name": "python3"
  },
  "language_info": {
   "codemirror_mode": {
    "name": "ipython",
    "version": 3
   },
   "file_extension": ".py",
   "mimetype": "text/x-python",
   "name": "python",
   "nbconvert_exporter": "python",
   "pygments_lexer": "ipython3",
   "version": "3.12.4"
  }
 },
 "nbformat": 4,
 "nbformat_minor": 2
}
