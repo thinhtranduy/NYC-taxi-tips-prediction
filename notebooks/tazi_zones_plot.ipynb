{
 "cells": [
  {
   "cell_type": "markdown",
   "metadata": {},
   "source": [
    "This notebook generates `../data/taxi_zones/taxi_zones.geojson` to used for gepspatial visualization"
   ]
  },
  {
   "cell_type": "code",
   "execution_count": 1,
   "metadata": {},
   "outputs": [],
   "source": [
    "import pandas as pd\n",
    "import geopandas as gpd\n",
    "import os\n",
    "import folium"
   ]
  },
  {
   "cell_type": "code",
   "execution_count": 2,
   "metadata": {},
   "outputs": [],
   "source": [
    "sf = gpd.read_file(\"../data/taxi_zones/taxi_zones.shp\")\n",
    "zones = pd.read_csv(\"../data/taxi_zones/taxi+_zone_lookup.csv\")"
   ]
  },
  {
   "cell_type": "code",
   "execution_count": null,
   "metadata": {},
   "outputs": [],
   "source": [
    "sf['geometry'] = sf['geometry'].to_crs(\"+proj=longlat +ellps=WGS84 +datum=WGS84 +no_defs\")\n",
    "sf"
   ]
  },
  {
   "cell_type": "code",
   "execution_count": null,
   "metadata": {},
   "outputs": [],
   "source": [
    "gdf = gpd.GeoDataFrame(\n",
    "    pd.merge(zones, sf, on='LocationID', how='inner')\n",
    ")\n",
    "\n",
    "gdf.iloc[0]"
   ]
  },
  {
   "cell_type": "code",
   "execution_count": 5,
   "metadata": {},
   "outputs": [
    {
     "name": "stdout",
     "output_type": "stream",
     "text": [
      "GeoJSON saved to ../data/taxi_zones/taxi_zones.geojson\n"
     ]
    }
   ],
   "source": [
    "import os\n",
    "# Define the output file path\n",
    "output_file_path = '../data/taxi_zones/taxi_zones.geojson'\n",
    "\n",
    "# Create the directory if it doesn't exist\n",
    "output_dir = os.path.dirname(output_file_path)\n",
    "os.makedirs(output_dir, exist_ok=True)\n",
    "\n",
    "# Generate the GeoJSON\n",
    "geoJSON = gdf[['LocationID', 'geometry']].drop_duplicates('LocationID').to_json()\n",
    "\n",
    "# Save to file\n",
    "with open(output_file_path, 'w') as file:\n",
    "    file.write(geoJSON)\n",
    "\n",
    "print(f\"GeoJSON saved to {output_file_path}\")\n"
   ]
  },
  {
   "cell_type": "code",
   "execution_count": null,
   "metadata": {},
   "outputs": [],
   "source": [
    "\n",
    "_map = folium.Map(location=[40.66, -73.94], tiles=\"Stamen Terrain\", \n",
    "attr=\"Map_NYC_zones\",\n",
    "zoom_start=10)\n",
    "\n",
    "# refer to the folium documentations on how to plot aggregated data.\n",
    "_map.add_child(folium.Choropleth(\n",
    "    geo_data=geoJSON,\n",
    "    name='choropleth',\n",
    "))\n",
    "\n",
    "_map.save('../plots/foliumChoroplethMap.html')\n",
    "_map"
   ]
  }
 ],
 "metadata": {
  "kernelspec": {
   "display_name": "Python 3",
   "language": "python",
   "name": "python3"
  },
  "language_info": {
   "codemirror_mode": {
    "name": "ipython",
    "version": 3
   },
   "file_extension": ".py",
   "mimetype": "text/x-python",
   "name": "python",
   "nbconvert_exporter": "python",
   "pygments_lexer": "ipython3",
   "version": "3.12.4"
  }
 },
 "nbformat": 4,
 "nbformat_minor": 2
}
