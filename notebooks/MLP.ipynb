{
 "cells": [
  {
   "cell_type": "code",
   "execution_count": 1,
   "metadata": {},
   "outputs": [
    {
     "name": "stderr",
     "output_type": "stream",
     "text": [
      "Setting default log level to \"WARN\".\n",
      "To adjust logging level use sc.setLogLevel(newLevel). For SparkR, use setLogLevel(newLevel).\n",
      "24/08/24 15:39:11 WARN NativeCodeLoader: Unable to load native-hadoop library for your platform... using builtin-java classes where applicable\n"
     ]
    }
   ],
   "source": [
    "from pyspark.sql import SparkSession, functions as F\n",
    "from pyspark.ml.evaluation import MulticlassClassificationEvaluator\n",
    "from pyspark.ml.feature import VectorAssembler, StringIndexer\n",
    "from pyspark.ml.classification import MultilayerPerceptronClassifier\n",
    "from pyspark.ml.evaluation import MulticlassClassificationEvaluator\n",
    "from pyspark.ml import Pipeline\n",
    "\n",
    "# Create a spark session (which will run spark jobs)\n",
    "spark = (\n",
    "    SparkSession.builder.appName(\"TrainingMLP\")\n",
    "    .config(\"spark.sql.repl.eagerEval.enabled\", True)\n",
    "    .config(\"spark.sql.parquet.cacheMetadata\", \"true\")\n",
    "    .config(\"spark.sql.session.timeZone\", \"Etc/UTC\")\n",
    "    .config('spark.driver.memory', '8g')  \n",
    "    .config('spark.executor.memory', '8g') \n",
    "    .getOrCreate()\n",
    ")"
   ]
  },
  {
   "cell_type": "code",
   "execution_count": 2,
   "metadata": {},
   "outputs": [
    {
     "name": "stdout",
     "output_type": "stream",
     "text": [
      "+------------+-----------+--------+------+-------+----------+------------+----------------------------+-------------+------------------+-----------------+----------------+---------------------------+------------------+----------+\n",
      "|pulocationid|pu_location|pu_month|pu_day|pu_hour|is_weekend|is_peak_hour|trip_duration_minutes_scaled|trip_distance|fare_amount_scaled|wind_speed_scaled|dew_point_scaled|atmospheric_pressure_scaled|temperature_scaled|tip_amount|\n",
      "+------------+-----------+--------+------+-------+----------+------------+----------------------------+-------------+------------------+-----------------+----------------+---------------------------+------------------+----------+\n",
      "|         132|JFK Airport|      10|    31|     23|         0|           0|                      0.9901|        18.61|            3.0142|          -0.2625|         -1.0006|                     0.0382|           -0.8899|     16.54|\n",
      "|         236|  Manhattan|      11|     1|      0|         0|           0|                      -0.269|          1.2|           -0.6038|          -1.2992|         -0.7619|                    -0.0368|           -0.9492|       3.0|\n",
      "|          48|  Manhattan|      11|     1|      0|         0|           0|                     -0.3838|          0.9|           -0.8149|          -1.2992|         -0.7619|                    -0.0368|           -0.9492|       2.3|\n",
      "|         170|  Manhattan|      11|     1|      0|         0|           0|                      0.0756|          6.2|            0.4514|          -1.2992|         -0.7619|                    -0.0368|           -0.9492|      8.12|\n",
      "|          90|  Manhattan|      11|     1|      0|         0|           0|                     -0.2607|         1.14|            -0.646|          -1.2992|         -0.7619|                    -0.0368|           -0.9492|       1.0|\n",
      "|         230|  Manhattan|      11|     1|      0|         0|           0|                      0.2739|         6.88|            0.7891|          -1.2992|         -0.7619|                    -0.0368|           -0.9492|      5.72|\n",
      "|         107|  Manhattan|      11|     1|      0|         0|           0|                     -0.1725|          1.8|            -0.435|          -1.2992|         -0.7619|                    -0.0368|           -0.9492|      3.55|\n",
      "|         142|  Manhattan|      11|     1|      0|         0|           0|                     -0.2816|         1.77|           -0.5616|          -1.2992|         -0.7619|                    -0.0368|           -0.9492|      4.71|\n",
      "|         230|  Manhattan|      11|     1|      0|         0|           0|                     -0.3511|          1.0|           -0.7726|          -1.2992|         -0.7619|                    -0.0368|           -0.9492|      1.22|\n",
      "|         249|  Manhattan|      11|     1|      0|         0|           0|                     -0.1677|         2.13|           -0.3928|          -1.2992|         -0.7619|                    -0.0368|           -0.9492|       3.7|\n",
      "+------------+-----------+--------+------+-------+----------+------------+----------------------------+-------------+------------------+-----------------+----------------+---------------------------+------------------+----------+\n",
      "only showing top 10 rows\n",
      "\n"
     ]
    }
   ],
   "source": [
    "file_path = '../data/curated/*'\n",
    "df = spark.read.parquet(file_path)\n",
    "df = df.sample(withReplacement=False, fraction=0.7, seed=42)\n",
    "df.show(10)"
   ]
  },
  {
   "cell_type": "markdown",
   "metadata": {},
   "source": [
    "Creating the target column for training, using quantiles to classify tips into three categories: Small, moderate and large tips\n"
   ]
  },
  {
   "cell_type": "code",
   "execution_count": 3,
   "metadata": {},
   "outputs": [
    {
     "name": "stderr",
     "output_type": "stream",
     "text": [
      "                                                                                \r"
     ]
    },
    {
     "name": "stdout",
     "output_type": "stream",
     "text": [
      "1.132216014897579\n",
      "2.4791666666666665\n",
      "+-------+-------+------------------+\n",
      "|tip_bin|  count|        percentage|\n",
      "+-------+-------+------------------+\n",
      "|      1|4612844|49.578290831381786|\n",
      "|      2|2370450| 25.47731063553178|\n",
      "|      0|2320867|24.944398533086435|\n",
      "+-------+-------+------------------+\n",
      "\n"
     ]
    }
   ],
   "source": [
    "df = df.withColumn(\n",
    "    \"tip_to_dist_ratio\",\n",
    "    F.col(\"tip_amount\") / F.col(\"trip_distance\")\n",
    ")\n",
    "\n",
    "# Calculating quantiles\n",
    "percentiles = df.approxQuantile(\"tip_to_dist_ratio\", [0.25, 0.75], 0.01)\n",
    "Q1 = percentiles[0]\n",
    "Q3 = percentiles[1]\n",
    "print(Q1)\n",
    "print(Q3)\n",
    "\n",
    "df = df.withColumn(\n",
    "    \"tip_bin\",\n",
    "   F.when(F.col(\"tip_to_dist_ratio\") <= Q1, 0)  #Small Tip\n",
    "    .when(F.col(\"tip_to_dist_ratio\") <= Q3, 1)   #Moderate Tip\n",
    "    .otherwise(2) #Large Tip\n",
    ")\n",
    "\n",
    "# Describing number of instances in each classes\n",
    "bin_counts = df.groupBy(\"tip_bin\").agg(F.count(\"*\").alias(\"count\"))\n",
    "total_count = df.count()\n",
    "bin_percentages = bin_counts.withColumn(\"percentage\", F.col(\"count\") / F.lit(total_count) * 100)\n",
    "bin_percentages.show()"
   ]
  },
  {
   "cell_type": "code",
   "execution_count": 13,
   "metadata": {},
   "outputs": [
    {
     "data": {
      "text/plain": [
       "7683589"
      ]
     },
     "execution_count": 13,
     "metadata": {},
     "output_type": "execute_result"
    }
   ],
   "source": [
    "training_data = df.filter(df[\"pu_month\"].isin([7,8,9,10,11]))\n",
    "test_data = df.filter(df[\"pu_month\"].isin([12]))\n",
    "training_data.count()"
   ]
  },
  {
   "cell_type": "code",
   "execution_count": 5,
   "metadata": {},
   "outputs": [],
   "source": [
    "feature_columns = [\n",
    "    'pulocationid',\"pu_day\", \"pu_hour\", \"is_weekend\", \"is_peak_hour\",\n",
    "    \"trip_duration_minutes_scaled\", \"trip_distance\", \"fare_amount_scaled\",\n",
    "    \"wind_speed_scaled\", \"dew_point_scaled\", \"atmospheric_pressure_scaled\",\n",
    "    \"temperature_scaled\"\n",
    "]\n",
    "assembler = VectorAssembler(\n",
    "    inputCols=feature_columns,\n",
    "    outputCol=\"features\"\n",
    ")"
   ]
  },
  {
   "cell_type": "code",
   "execution_count": 6,
   "metadata": {},
   "outputs": [
    {
     "data": {
      "text/html": [
       "<table border='1'>\n",
       "<tr><th>pulocationid</th><th>pu_day</th><th>pu_hour</th><th>is_weekend</th><th>is_peak_hour</th><th>trip_duration_minutes_scaled</th><th>trip_distance</th><th>fare_amount_scaled</th><th>wind_speed_scaled</th><th>dew_point_scaled</th><th>atmospheric_pressure_scaled</th><th>temperature_scaled</th><th>tip_bin</th></tr>\n",
       "<tr><td>137</td><td>1</td><td>0</td><td>1</td><td>0</td><td>-0.1511</td><td>4.63</td><td>0.0716</td><td>1.5346</td><td>-1.3043</td><td>0.4759</td><td>-0.8899</td><td>0</td></tr>\n",
       "<tr><td>45</td><td>1</td><td>0</td><td>1</td><td>0</td><td>-0.0476</td><td>5.33</td><td>0.2826</td><td>1.5346</td><td>-1.3043</td><td>0.4759</td><td>-0.8899</td><td>0</td></tr>\n",
       "<tr><td>163</td><td>1</td><td>0</td><td>1</td><td>0</td><td>-0.276</td><td>2.1</td><td>-0.4772</td><td>1.5346</td><td>-1.3043</td><td>0.4759</td><td>-0.8899</td><td>1</td></tr>\n",
       "<tr><td>144</td><td>1</td><td>0</td><td>1</td><td>0</td><td>-0.062</td><td>2.6</td><td>-0.3505</td><td>1.5346</td><td>-1.3043</td><td>0.4759</td><td>-0.8899</td><td>1</td></tr>\n",
       "<tr><td>234</td><td>1</td><td>0</td><td>1</td><td>0</td><td>-0.4048</td><td>0.8</td><td>-0.8571</td><td>1.5346</td><td>-1.3043</td><td>0.4759</td><td>-0.8899</td><td>2</td></tr>\n",
       "<tr><td>233</td><td>1</td><td>0</td><td>1</td><td>0</td><td>-0.3166</td><td>1.6</td><td>-0.6882</td><td>1.5346</td><td>-1.3043</td><td>0.4759</td><td>-0.8899</td><td>1</td></tr>\n",
       "<tr><td>24</td><td>1</td><td>0</td><td>1</td><td>0</td><td>-0.3402</td><td>0.77</td><td>-0.7726</td><td>1.5346</td><td>-1.3043</td><td>0.4759</td><td>-0.8899</td><td>2</td></tr>\n",
       "<tr><td>138</td><td>1</td><td>0</td><td>1</td><td>0</td><td>0.0018</td><td>12.0</td><td>1.5489</td><td>1.5346</td><td>-1.3043</td><td>0.4759</td><td>-0.8899</td><td>0</td></tr>\n",
       "<tr><td>238</td><td>1</td><td>0</td><td>1</td><td>0</td><td>-0.279</td><td>1.7</td><td>-0.6038</td><td>1.5346</td><td>-1.3043</td><td>0.4759</td><td>-0.8899</td><td>0</td></tr>\n",
       "<tr><td>239</td><td>1</td><td>0</td><td>1</td><td>0</td><td>-0.0292</td><td>3.9</td><td>-0.0551</td><td>1.5346</td><td>-1.3043</td><td>0.4759</td><td>-0.8899</td><td>1</td></tr>\n",
       "<tr><td>161</td><td>1</td><td>0</td><td>1</td><td>0</td><td>-0.1166</td><td>2.99</td><td>-0.2239</td><td>1.5346</td><td>-1.3043</td><td>0.4759</td><td>-0.8899</td><td>1</td></tr>\n",
       "<tr><td>79</td><td>1</td><td>0</td><td>1</td><td>0</td><td>-0.1703</td><td>3.85</td><td>-0.1817</td><td>1.5346</td><td>-1.3043</td><td>0.4759</td><td>-0.8899</td><td>1</td></tr>\n",
       "<tr><td>142</td><td>1</td><td>0</td><td>1</td><td>0</td><td>0.3909</td><td>7.0</td><td>0.7891</td><td>1.5346</td><td>-1.3043</td><td>0.4759</td><td>-0.8899</td><td>0</td></tr>\n",
       "<tr><td>140</td><td>1</td><td>0</td><td>1</td><td>0</td><td>0.2442</td><td>6.82</td><td>0.7469</td><td>1.5346</td><td>-1.3043</td><td>0.4759</td><td>-0.8899</td><td>0</td></tr>\n",
       "<tr><td>48</td><td>1</td><td>0</td><td>1</td><td>0</td><td>0.1345</td><td>7.75</td><td>0.8735</td><td>1.5346</td><td>-1.3043</td><td>0.4759</td><td>-0.8899</td><td>0</td></tr>\n",
       "<tr><td>107</td><td>1</td><td>0</td><td>1</td><td>0</td><td>-0.3323</td><td>0.87</td><td>-0.7726</td><td>1.5346</td><td>-1.3043</td><td>0.4759</td><td>-0.8899</td><td>2</td></tr>\n",
       "<tr><td>144</td><td>1</td><td>0</td><td>1</td><td>0</td><td>-0.2131</td><td>1.35</td><td>-0.5616</td><td>1.5346</td><td>-1.3043</td><td>0.4759</td><td>-0.8899</td><td>1</td></tr>\n",
       "<tr><td>164</td><td>1</td><td>0</td><td>1</td><td>0</td><td>-0.3956</td><td>0.61</td><td>-0.8571</td><td>1.5346</td><td>-1.3043</td><td>0.4759</td><td>-0.8899</td><td>2</td></tr>\n",
       "<tr><td>162</td><td>1</td><td>0</td><td>1</td><td>0</td><td>-0.3126</td><td>1.53</td><td>-0.646</td><td>1.5346</td><td>-1.3043</td><td>0.4759</td><td>-0.8899</td><td>1</td></tr>\n",
       "<tr><td>158</td><td>1</td><td>0</td><td>1</td><td>0</td><td>-0.0406</td><td>2.1</td><td>-0.3083</td><td>1.5346</td><td>-1.3043</td><td>0.4759</td><td>-0.8899</td><td>1</td></tr>\n",
       "</table>\n",
       "only showing top 20 rows\n"
      ],
      "text/plain": [
       "+------------+------+-------+----------+------------+----------------------------+-------------+------------------+-----------------+----------------+---------------------------+------------------+-------+\n",
       "|pulocationid|pu_day|pu_hour|is_weekend|is_peak_hour|trip_duration_minutes_scaled|trip_distance|fare_amount_scaled|wind_speed_scaled|dew_point_scaled|atmospheric_pressure_scaled|temperature_scaled|tip_bin|\n",
       "+------------+------+-------+----------+------------+----------------------------+-------------+------------------+-----------------+----------------+---------------------------+------------------+-------+\n",
       "|         137|     1|      0|         1|           0|                     -0.1511|         4.63|            0.0716|           1.5346|         -1.3043|                     0.4759|           -0.8899|      0|\n",
       "|          45|     1|      0|         1|           0|                     -0.0476|         5.33|            0.2826|           1.5346|         -1.3043|                     0.4759|           -0.8899|      0|\n",
       "|         163|     1|      0|         1|           0|                      -0.276|          2.1|           -0.4772|           1.5346|         -1.3043|                     0.4759|           -0.8899|      1|\n",
       "|         144|     1|      0|         1|           0|                      -0.062|          2.6|           -0.3505|           1.5346|         -1.3043|                     0.4759|           -0.8899|      1|\n",
       "|         234|     1|      0|         1|           0|                     -0.4048|          0.8|           -0.8571|           1.5346|         -1.3043|                     0.4759|           -0.8899|      2|\n",
       "|         233|     1|      0|         1|           0|                     -0.3166|          1.6|           -0.6882|           1.5346|         -1.3043|                     0.4759|           -0.8899|      1|\n",
       "|          24|     1|      0|         1|           0|                     -0.3402|         0.77|           -0.7726|           1.5346|         -1.3043|                     0.4759|           -0.8899|      2|\n",
       "|         138|     1|      0|         1|           0|                      0.0018|         12.0|            1.5489|           1.5346|         -1.3043|                     0.4759|           -0.8899|      0|\n",
       "|         238|     1|      0|         1|           0|                      -0.279|          1.7|           -0.6038|           1.5346|         -1.3043|                     0.4759|           -0.8899|      0|\n",
       "|         239|     1|      0|         1|           0|                     -0.0292|          3.9|           -0.0551|           1.5346|         -1.3043|                     0.4759|           -0.8899|      1|\n",
       "|         161|     1|      0|         1|           0|                     -0.1166|         2.99|           -0.2239|           1.5346|         -1.3043|                     0.4759|           -0.8899|      1|\n",
       "|          79|     1|      0|         1|           0|                     -0.1703|         3.85|           -0.1817|           1.5346|         -1.3043|                     0.4759|           -0.8899|      1|\n",
       "|         142|     1|      0|         1|           0|                      0.3909|          7.0|            0.7891|           1.5346|         -1.3043|                     0.4759|           -0.8899|      0|\n",
       "|         140|     1|      0|         1|           0|                      0.2442|         6.82|            0.7469|           1.5346|         -1.3043|                     0.4759|           -0.8899|      0|\n",
       "|          48|     1|      0|         1|           0|                      0.1345|         7.75|            0.8735|           1.5346|         -1.3043|                     0.4759|           -0.8899|      0|\n",
       "|         107|     1|      0|         1|           0|                     -0.3323|         0.87|           -0.7726|           1.5346|         -1.3043|                     0.4759|           -0.8899|      2|\n",
       "|         144|     1|      0|         1|           0|                     -0.2131|         1.35|           -0.5616|           1.5346|         -1.3043|                     0.4759|           -0.8899|      1|\n",
       "|         164|     1|      0|         1|           0|                     -0.3956|         0.61|           -0.8571|           1.5346|         -1.3043|                     0.4759|           -0.8899|      2|\n",
       "|         162|     1|      0|         1|           0|                     -0.3126|         1.53|            -0.646|           1.5346|         -1.3043|                     0.4759|           -0.8899|      1|\n",
       "|         158|     1|      0|         1|           0|                     -0.0406|          2.1|           -0.3083|           1.5346|         -1.3043|                     0.4759|           -0.8899|      1|\n",
       "+------------+------+-------+----------+------------+----------------------------+-------------+------------------+-----------------+----------------+---------------------------+------------------+-------+\n",
       "only showing top 20 rows"
      ]
     },
     "execution_count": 6,
     "metadata": {},
     "output_type": "execute_result"
    }
   ],
   "source": [
    "test_data = test_data.select(*feature_columns,\"tip_bin\")\n",
    "test_data\n"
   ]
  },
  {
   "cell_type": "code",
   "execution_count": 7,
   "metadata": {},
   "outputs": [
    {
     "name": "stderr",
     "output_type": "stream",
     "text": [
      "24/08/24 15:39:30 WARN GarbageCollectionMetrics: To enable non-built-in garbage collector(s) List(G1 Concurrent GC), users should configure it(them) to spark.eventLog.gcMetrics.youngGenerationGarbageCollectors or spark.eventLog.gcMetrics.oldGenerationGarbageCollectors\n",
      "24/08/24 15:39:35 WARN InstanceBuilder: Failed to load implementation from:dev.ludovic.netlib.blas.JNIBLAS\n",
      "24/08/24 15:39:35 WARN InstanceBuilder: Failed to load implementation from:dev.ludovic.netlib.blas.VectorBLAS\n",
      "                                                                                \r"
     ]
    }
   ],
   "source": [
    "layers = [len(feature_columns),32,16,3]\n",
    "\n",
    "# Define the hyperparameters for the Neural Network\n",
    "mlp = MultilayerPerceptronClassifier(\n",
    "    featuresCol=\"features\",\n",
    "    labelCol=\"tip_bin\",\n",
    "    maxIter=100,\n",
    "    layers=layers,\n",
    "    blockSize=128,\n",
    "    seed=1234\n",
    ")\n",
    "\n",
    "# Fit the model to training data\n",
    "pipeline = Pipeline(stages=[assembler, mlp])\n",
    "model = pipeline.fit(training_data)\n"
   ]
  },
  {
   "cell_type": "code",
   "execution_count": 11,
   "metadata": {},
   "outputs": [
    {
     "name": "stderr",
     "output_type": "stream",
     "text": [
      "[Stage 276:=================================================>       (7 + 1) / 8]\r"
     ]
    },
    {
     "name": "stdout",
     "output_type": "stream",
     "text": [
      "Recall score: 0.6316837511693403\n"
     ]
    },
    {
     "name": "stderr",
     "output_type": "stream",
     "text": [
      "                                                                                \r"
     ]
    }
   ],
   "source": [
    "evaluator = MulticlassClassificationEvaluator(\n",
    "    labelCol=\"tip_bin\",\n",
    "    predictionCol=\"prediction\",\n",
    "    metricName=\"weightedRecall\"\n",
    ")\n",
    "\n",
    "test_predictions = model.transform(test_data)\n",
    "\n",
    "# Evaluate the test data\n",
    "recall_score = evaluator.evaluate(test_predictions)\n",
    "print(f\"Recall score: {recall_score}\")"
   ]
  },
  {
   "cell_type": "code",
   "execution_count": 9,
   "metadata": {},
   "outputs": [
    {
     "name": "stderr",
     "output_type": "stream",
     "text": [
      "[Stage 265:=================================================>       (7 + 1) / 8]\r"
     ]
    },
    {
     "name": "stdout",
     "output_type": "stream",
     "text": [
      "+-------+----------+------+\n",
      "|tip_bin|prediction| count|\n",
      "+-------+----------+------+\n",
      "|      0|       0.0|105614|\n",
      "|      2|       1.0|197552|\n",
      "|      1|       0.0| 40942|\n",
      "|      0|       2.0| 27899|\n",
      "|      1|       2.0| 97041|\n",
      "|      2|       2.0|267737|\n",
      "|      1|       1.0|650338|\n",
      "|      2|       0.0|   516|\n",
      "|      0|       1.0|232933|\n",
      "+-------+----------+------+\n",
      "\n"
     ]
    },
    {
     "name": "stderr",
     "output_type": "stream",
     "text": [
      "                                                                                \r"
     ]
    }
   ],
   "source": [
    "confusion_matrix = test_predictions.groupBy(\"tip_bin\", \"prediction\").count()\n",
    "\n",
    "# Show the confusion matrix\n",
    "confusion_matrix.show()"
   ]
  },
  {
   "cell_type": "code",
   "execution_count": 10,
   "metadata": {},
   "outputs": [
    {
     "name": "stderr",
     "output_type": "stream",
     "text": [
      "                                                                                \r"
     ]
    },
    {
     "data": {
      "image/png": "[encoded data removed]",
      "text/plain": [
       "<Figure size 1000x700 with 2 Axes>"
      ]
     },
     "metadata": {},
     "output_type": "display_data"
    }
   ],
   "source": [
    "from pyspark.sql import functions as F\n",
    "import matplotlib.pyplot as plt\n",
    "import seaborn as sns\n",
    "\n",
    "# Convert the prediction column to integer\n",
    "predictions = test_predictions.withColumn(\"prediction\", F.col(\"prediction\").cast(\"integer\"))\n",
    "\n",
    "# Create the confusion matrix\n",
    "confusion_matrix = predictions.groupBy(\"tip_bin\", \"prediction\").count()\n",
    "\n",
    "# Compute total counts for each tip_bin\n",
    "total_counts_per_tip_bin = confusion_matrix.groupBy(\"tip_bin\").agg(F.sum(\"count\").alias(\"total_count\"))\n",
    "\n",
    "# Join the total counts with the confusion matrix\n",
    "confusion_matrix_with_totals = confusion_matrix.join(total_counts_per_tip_bin, on=\"tip_bin\")\n",
    "\n",
    "# Calculate percentages\n",
    "confusion_matrix_percent = confusion_matrix_with_totals.withColumn(\n",
    "    \"percentage\",\n",
    "    (F.col(\"count\") / F.col(\"total_count\")) * 100\n",
    ")\n",
    "\n",
    "# Collect the results to a Pandas DataFrame for visualization\n",
    "confusion_matrix_pd = confusion_matrix_percent.toPandas()\n",
    "\n",
    "# Reshape the confusion matrix for heatmap\n",
    "confusion_matrix_matrix = confusion_matrix_pd.pivot(\n",
    "    index='tip_bin', columns='prediction', values='percentage'\n",
    ").fillna(0)\n",
    "\n",
    "# Plot the confusion matrix\n",
    "plt.figure(figsize=(10, 7))\n",
    "sns.heatmap(confusion_matrix_matrix, annot=True, fmt=\".2f\", cmap=\"Blues\", cbar=True)\n",
    "plt.xlabel('Predicted Label')\n",
    "plt.ylabel('True Label')\n",
    "plt.title('Confusion Matrix (Percentage)')\n",
    "\n",
    "plt.savefig(\"../plots/confusion_matrix_MLP.png\", format=\"png\")\n",
    "\n"
   ]
  },
  {
   "cell_type": "code",
   "execution_count": 50,
   "metadata": {},
   "outputs": [
    {
     "data": {
      "text/html": [
       "<table border='1'>\n",
       "<tr><th>pulocationid</th><th>pu_day</th><th>pu_hour</th><th>is_weekend</th><th>is_peak_hour</th><th>trip_duration_minutes_scaled</th><th>trip_distance</th><th>fare_amount_scaled</th><th>wind_speed_scaled</th><th>dew_point_scaled</th><th>atmospheric_pressure_scaled</th><th>temperature_scaled</th><th>tip_bin</th><th>features</th><th>rawPrediction</th><th>probability</th><th>prediction</th></tr>\n",
       "<tr><td>148</td><td>1</td><td>0</td><td>1</td><td>0</td><td>-0.2048</td><td>2.85</td><td>-0.3505</td><td>1.5346</td><td>-1.3043</td><td>0.4759</td><td>-0.8899</td><td>0</td><td>[148.0,1.0,0.0,1....</td><td>[1.02820768654139...</td><td>[0.54112573230794...</td><td>0.0</td></tr>\n",
       "<tr><td>137</td><td>1</td><td>0</td><td>1</td><td>0</td><td>-0.1511</td><td>4.63</td><td>0.0716</td><td>1.5346</td><td>-1.3043</td><td>0.4759</td><td>-0.8899</td><td>0</td><td>[137.0,1.0,0.0,1....</td><td>[1.70440095307614...</td><td>[0.67116313304395...</td><td>0.0</td></tr>\n",
       "<tr><td>45</td><td>1</td><td>0</td><td>1</td><td>0</td><td>-0.0476</td><td>5.33</td><td>0.2826</td><td>1.5346</td><td>-1.3043</td><td>0.4759</td><td>-0.8899</td><td>0</td><td>[45.0,1.0,0.0,1.0...</td><td>[1.72853495526943...</td><td>[0.67544692403548...</td><td>0.0</td></tr>\n",
       "<tr><td>163</td><td>1</td><td>0</td><td>1</td><td>0</td><td>-0.276</td><td>2.1</td><td>-0.4772</td><td>1.5346</td><td>-1.3043</td><td>0.4759</td><td>-0.8899</td><td>1</td><td>[163.0,1.0,0.0,1....</td><td>[0.06799858503411...</td><td>[0.35491325639412...</td><td>1.0</td></tr>\n",
       "<tr><td>144</td><td>1</td><td>0</td><td>1</td><td>0</td><td>-0.062</td><td>2.6</td><td>-0.3505</td><td>1.5346</td><td>-1.3043</td><td>0.4759</td><td>-0.8899</td><td>1</td><td>[144.0,1.0,0.0,1....</td><td>[0.92642402762473...</td><td>[0.52073984722386...</td><td>0.0</td></tr>\n",
       "<tr><td>234</td><td>1</td><td>0</td><td>1</td><td>0</td><td>-0.4048</td><td>0.8</td><td>-0.8571</td><td>1.5346</td><td>-1.3043</td><td>0.4759</td><td>-0.8899</td><td>2</td><td>[234.0,1.0,0.0,1....</td><td>[-1.7412472287058...</td><td>[0.09312433472229...</td><td>2.0</td></tr>\n",
       "<tr><td>233</td><td>1</td><td>0</td><td>1</td><td>0</td><td>-0.3166</td><td>1.6</td><td>-0.6882</td><td>1.5346</td><td>-1.3043</td><td>0.4759</td><td>-0.8899</td><td>1</td><td>[233.0,1.0,0.0,1....</td><td>[-0.7689663952901...</td><td>[0.22140420687255...</td><td>1.0</td></tr>\n",
       "<tr><td>24</td><td>1</td><td>0</td><td>1</td><td>0</td><td>-0.3402</td><td>0.77</td><td>-0.7726</td><td>1.5346</td><td>-1.3043</td><td>0.4759</td><td>-0.8899</td><td>2</td><td>[24.0,1.0,0.0,1.0...</td><td>[-0.4112698353531...</td><td>[0.27556431632609...</td><td>1.0</td></tr>\n",
       "<tr><td>138</td><td>1</td><td>0</td><td>1</td><td>0</td><td>0.0018</td><td>12.0</td><td>1.5489</td><td>1.5346</td><td>-1.3043</td><td>0.4759</td><td>-0.8899</td><td>0</td><td>[138.0,1.0,0.0,1....</td><td>[1.74789734355398...</td><td>[0.67894759679939...</td><td>0.0</td></tr>\n",
       "<tr><td>238</td><td>1</td><td>0</td><td>1</td><td>0</td><td>-0.279</td><td>1.7</td><td>-0.6038</td><td>1.5346</td><td>-1.3043</td><td>0.4759</td><td>-0.8899</td><td>0</td><td>[238.0,1.0,0.0,1....</td><td>[-0.7101082733428...</td><td>[0.22969091929619...</td><td>1.0</td></tr>\n",
       "<tr><td>239</td><td>1</td><td>0</td><td>1</td><td>0</td><td>-0.0292</td><td>3.9</td><td>-0.0551</td><td>1.5346</td><td>-1.3043</td><td>0.4759</td><td>-0.8899</td><td>1</td><td>[239.0,1.0,0.0,1....</td><td>[0.90205680242538...</td><td>[0.51584909334955...</td><td>0.0</td></tr>\n",
       "<tr><td>161</td><td>1</td><td>0</td><td>1</td><td>0</td><td>-0.1166</td><td>2.99</td><td>-0.2239</td><td>1.5346</td><td>-1.3043</td><td>0.4759</td><td>-0.8899</td><td>1</td><td>[161.0,1.0,0.0,1....</td><td>[1.04915538766549...</td><td>[0.54531368337354...</td><td>0.0</td></tr>\n",
       "<tr><td>79</td><td>1</td><td>0</td><td>1</td><td>0</td><td>-0.1703</td><td>3.85</td><td>-0.1817</td><td>1.5346</td><td>-1.3043</td><td>0.4759</td><td>-0.8899</td><td>1</td><td>[79.0,1.0,0.0,1.0...</td><td>[1.69361280454398...</td><td>[0.66919516697786...</td><td>0.0</td></tr>\n",
       "<tr><td>142</td><td>1</td><td>0</td><td>1</td><td>0</td><td>0.3909</td><td>7.0</td><td>0.7891</td><td>1.5346</td><td>-1.3043</td><td>0.4759</td><td>-0.8899</td><td>0</td><td>[142.0,1.0,0.0,1....</td><td>[1.74705565144408...</td><td>[0.67879770328725...</td><td>0.0</td></tr>\n",
       "<tr><td>140</td><td>1</td><td>0</td><td>1</td><td>0</td><td>0.2442</td><td>6.82</td><td>0.7469</td><td>1.5346</td><td>-1.3043</td><td>0.4759</td><td>-0.8899</td><td>0</td><td>[140.0,1.0,0.0,1....</td><td>[1.74674056533896...</td><td>[0.67874161413487...</td><td>0.0</td></tr>\n",
       "<tr><td>48</td><td>1</td><td>0</td><td>1</td><td>0</td><td>0.1345</td><td>7.75</td><td>0.8735</td><td>1.5346</td><td>-1.3043</td><td>0.4759</td><td>-0.8899</td><td>0</td><td>[48.0,1.0,0.0,1.0...</td><td>[1.74479462284139...</td><td>[0.67838477046267...</td><td>0.0</td></tr>\n",
       "<tr><td>107</td><td>1</td><td>0</td><td>1</td><td>0</td><td>-0.3323</td><td>0.87</td><td>-0.7726</td><td>1.5346</td><td>-1.3043</td><td>0.4759</td><td>-0.8899</td><td>2</td><td>[107.0,1.0,0.0,1....</td><td>[-0.9606552184631...</td><td>[0.19594058629493...</td><td>1.0</td></tr>\n",
       "<tr><td>144</td><td>1</td><td>0</td><td>1</td><td>0</td><td>-0.2131</td><td>1.35</td><td>-0.5616</td><td>1.5346</td><td>-1.3043</td><td>0.4759</td><td>-0.8899</td><td>1</td><td>[144.0,1.0,0.0,1....</td><td>[-0.4452001600594...</td><td>[0.26950426197030...</td><td>1.0</td></tr>\n",
       "<tr><td>164</td><td>1</td><td>0</td><td>1</td><td>0</td><td>-0.3956</td><td>0.61</td><td>-0.8571</td><td>1.5346</td><td>-1.3043</td><td>0.4759</td><td>-0.8899</td><td>2</td><td>[164.0,1.0,0.0,1....</td><td>[-1.7542146971379...</td><td>[0.09147801877430...</td><td>2.0</td></tr>\n",
       "<tr><td>162</td><td>1</td><td>0</td><td>1</td><td>0</td><td>-0.3126</td><td>1.53</td><td>-0.646</td><td>1.5346</td><td>-1.3043</td><td>0.4759</td><td>-0.8899</td><td>1</td><td>[162.0,1.0,0.0,1....</td><td>[-0.4640984860674...</td><td>[0.26640925345687...</td><td>1.0</td></tr>\n",
       "</table>\n",
       "only showing top 20 rows\n"
      ],
      "text/plain": [
       "+------------+------+-------+----------+------------+----------------------------+-------------+------------------+-----------------+----------------+---------------------------+------------------+-------+--------------------+--------------------+--------------------+----------+\n",
       "|pulocationid|pu_day|pu_hour|is_weekend|is_peak_hour|trip_duration_minutes_scaled|trip_distance|fare_amount_scaled|wind_speed_scaled|dew_point_scaled|atmospheric_pressure_scaled|temperature_scaled|tip_bin|            features|       rawPrediction|         probability|prediction|\n",
       "+------------+------+-------+----------+------------+----------------------------+-------------+------------------+-----------------+----------------+---------------------------+------------------+-------+--------------------+--------------------+--------------------+----------+\n",
       "|         148|     1|      0|         1|           0|                     -0.2048|         2.85|           -0.3505|           1.5346|         -1.3043|                     0.4759|           -0.8899|      0|[148.0,1.0,0.0,1....|[1.02820768654139...|[0.54112573230794...|       0.0|\n",
       "|         137|     1|      0|         1|           0|                     -0.1511|         4.63|            0.0716|           1.5346|         -1.3043|                     0.4759|           -0.8899|      0|[137.0,1.0,0.0,1....|[1.70440095307614...|[0.67116313304395...|       0.0|\n",
       "|          45|     1|      0|         1|           0|                     -0.0476|         5.33|            0.2826|           1.5346|         -1.3043|                     0.4759|           -0.8899|      0|[45.0,1.0,0.0,1.0...|[1.72853495526943...|[0.67544692403548...|       0.0|\n",
       "|         163|     1|      0|         1|           0|                      -0.276|          2.1|           -0.4772|           1.5346|         -1.3043|                     0.4759|           -0.8899|      1|[163.0,1.0,0.0,1....|[0.06799858503411...|[0.35491325639412...|       1.0|\n",
       "|         144|     1|      0|         1|           0|                      -0.062|          2.6|           -0.3505|           1.5346|         -1.3043|                     0.4759|           -0.8899|      1|[144.0,1.0,0.0,1....|[0.92642402762473...|[0.52073984722386...|       0.0|\n",
       "|         234|     1|      0|         1|           0|                     -0.4048|          0.8|           -0.8571|           1.5346|         -1.3043|                     0.4759|           -0.8899|      2|[234.0,1.0,0.0,1....|[-1.7412472287058...|[0.09312433472229...|       2.0|\n",
       "|         233|     1|      0|         1|           0|                     -0.3166|          1.6|           -0.6882|           1.5346|         -1.3043|                     0.4759|           -0.8899|      1|[233.0,1.0,0.0,1....|[-0.7689663952901...|[0.22140420687255...|       1.0|\n",
       "|          24|     1|      0|         1|           0|                     -0.3402|         0.77|           -0.7726|           1.5346|         -1.3043|                     0.4759|           -0.8899|      2|[24.0,1.0,0.0,1.0...|[-0.4112698353531...|[0.27556431632609...|       1.0|\n",
       "|         138|     1|      0|         1|           0|                      0.0018|         12.0|            1.5489|           1.5346|         -1.3043|                     0.4759|           -0.8899|      0|[138.0,1.0,0.0,1....|[1.74789734355398...|[0.67894759679939...|       0.0|\n",
       "|         238|     1|      0|         1|           0|                      -0.279|          1.7|           -0.6038|           1.5346|         -1.3043|                     0.4759|           -0.8899|      0|[238.0,1.0,0.0,1....|[-0.7101082733428...|[0.22969091929619...|       1.0|\n",
       "|         239|     1|      0|         1|           0|                     -0.0292|          3.9|           -0.0551|           1.5346|         -1.3043|                     0.4759|           -0.8899|      1|[239.0,1.0,0.0,1....|[0.90205680242538...|[0.51584909334955...|       0.0|\n",
       "|         161|     1|      0|         1|           0|                     -0.1166|         2.99|           -0.2239|           1.5346|         -1.3043|                     0.4759|           -0.8899|      1|[161.0,1.0,0.0,1....|[1.04915538766549...|[0.54531368337354...|       0.0|\n",
       "|          79|     1|      0|         1|           0|                     -0.1703|         3.85|           -0.1817|           1.5346|         -1.3043|                     0.4759|           -0.8899|      1|[79.0,1.0,0.0,1.0...|[1.69361280454398...|[0.66919516697786...|       0.0|\n",
       "|         142|     1|      0|         1|           0|                      0.3909|          7.0|            0.7891|           1.5346|         -1.3043|                     0.4759|           -0.8899|      0|[142.0,1.0,0.0,1....|[1.74705565144408...|[0.67879770328725...|       0.0|\n",
       "|         140|     1|      0|         1|           0|                      0.2442|         6.82|            0.7469|           1.5346|         -1.3043|                     0.4759|           -0.8899|      0|[140.0,1.0,0.0,1....|[1.74674056533896...|[0.67874161413487...|       0.0|\n",
       "|          48|     1|      0|         1|           0|                      0.1345|         7.75|            0.8735|           1.5346|         -1.3043|                     0.4759|           -0.8899|      0|[48.0,1.0,0.0,1.0...|[1.74479462284139...|[0.67838477046267...|       0.0|\n",
       "|         107|     1|      0|         1|           0|                     -0.3323|         0.87|           -0.7726|           1.5346|         -1.3043|                     0.4759|           -0.8899|      2|[107.0,1.0,0.0,1....|[-0.9606552184631...|[0.19594058629493...|       1.0|\n",
       "|         144|     1|      0|         1|           0|                     -0.2131|         1.35|           -0.5616|           1.5346|         -1.3043|                     0.4759|           -0.8899|      1|[144.0,1.0,0.0,1....|[-0.4452001600594...|[0.26950426197030...|       1.0|\n",
       "|         164|     1|      0|         1|           0|                     -0.3956|         0.61|           -0.8571|           1.5346|         -1.3043|                     0.4759|           -0.8899|      2|[164.0,1.0,0.0,1....|[-1.7542146971379...|[0.09147801877430...|       2.0|\n",
       "|         162|     1|      0|         1|           0|                     -0.3126|         1.53|            -0.646|           1.5346|         -1.3043|                     0.4759|           -0.8899|      1|[162.0,1.0,0.0,1....|[-0.4640984860674...|[0.26640925345687...|       1.0|\n",
       "+------------+------+-------+----------+------------+----------------------------+-------------+------------------+-----------------+----------------+---------------------------+------------------+-------+--------------------+--------------------+--------------------+----------+\n",
       "only showing top 20 rows"
      ]
     },
     "execution_count": 50,
     "metadata": {},
     "output_type": "execute_result"
    }
   ],
   "source": [
    "test_predictions"
   ]
  },
  {
   "cell_type": "code",
   "execution_count": 12,
   "metadata": {},
   "outputs": [],
   "source": [
    "model_path = \"../MLP_trained\"\n",
    "model.save(model_path)"
   ]
  },
  {
   "cell_type": "code",
   "execution_count": null,
   "metadata": {},
   "outputs": [],
   "source": []
  }
 ],
 "metadata": {
  "kernelspec": {
   "display_name": "Python 3",
   "language": "python",
   "name": "python3"
  },
  "language_info": {
   "codemirror_mode": {
    "name": "ipython",
    "version": 3
   },
   "file_extension": ".py",
   "mimetype": "text/x-python",
   "name": "python",
   "nbconvert_exporter": "python",
   "pygments_lexer": "ipython3",
   "version": "3.12.4"
  }
 },
 "nbformat": 4,
 "nbformat_minor": 2
}
