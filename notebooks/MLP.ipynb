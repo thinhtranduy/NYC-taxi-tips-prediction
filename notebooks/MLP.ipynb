{
 "cells": [
  {
   "cell_type": "markdown",
   "metadata": {},
   "source": [
    "This notebook trained and tested the Neural Network. Due to the long training time, this takes approximately 20 minutes for running. Change the spark config for better runtime."
   ]
  },
  {
   "cell_type": "code",
   "execution_count": 1,
   "metadata": {},
   "outputs": [
    {
     "name": "stderr",
     "output_type": "stream",
     "text": [
      "Setting default log level to \"WARN\".\n",
      "To adjust logging level use sc.setLogLevel(newLevel). For SparkR, use setLogLevel(newLevel).\n",
      "24/08/25 15:08:04 WARN NativeCodeLoader: Unable to load native-hadoop library for your platform... using builtin-java classes where applicable\n"
     ]
    }
   ],
   "source": [
    "from pyspark.sql import SparkSession, functions as F\n",
    "from pyspark.ml.evaluation import MulticlassClassificationEvaluator\n",
    "from pyspark.ml.feature import VectorAssembler, StringIndexer\n",
    "from pyspark.ml.classification import MultilayerPerceptronClassifier\n",
    "from pyspark.ml.evaluation import MulticlassClassificationEvaluator\n",
    "from pyspark.ml import Pipeline\n",
    "\n",
    "spark = (\n",
    "    SparkSession.builder.appName(\"TrainingMLP\")\n",
    "    .config(\"spark.sql.repl.eagerEval.enabled\", True)\n",
    "    .config(\"spark.sql.parquet.cacheMetadata\", \"true\")\n",
    "    .config(\"spark.sql.session.timeZone\", \"Etc/UTC\")\n",
    "    .config('spark.driver.memory', '8g')  \n",
    "    .config('spark.executor.memory', '8g') \n",
    "    .getOrCreate()\n",
    ")"
   ]
  },
  {
   "cell_type": "code",
   "execution_count": 2,
   "metadata": {},
   "outputs": [
    {
     "name": "stderr",
     "output_type": "stream",
     "text": [
      "                                                                                \r"
     ]
    },
    {
     "name": "stdout",
     "output_type": "stream",
     "text": [
      "+------------+-----------+--------+------+-------+----------+------------+----------------------------+-------------+------------------+-----------------+----------------+---------------------------+------------------+----------+\n",
      "|pulocationid|pu_location|pu_month|pu_day|pu_hour|is_weekend|is_peak_hour|trip_duration_minutes_scaled|trip_distance|fare_amount_scaled|wind_speed_scaled|dew_point_scaled|atmospheric_pressure_scaled|temperature_scaled|tip_amount|\n",
      "+------------+-----------+--------+------+-------+----------+------------+----------------------------+-------------+------------------+-----------------+----------------+---------------------------+------------------+----------+\n",
      "|         114|  Manhattan|      12|     1|      0|         1|           0|                     -0.1192|          2.2|           -0.3928|           1.5346|         -1.3043|                     0.4759|           -0.8899|       3.0|\n",
      "|         229|  Manhattan|      12|     1|      0|         1|           0|                      -0.286|          2.2|           -0.5194|           1.5346|         -1.3043|                     0.4759|           -0.8899|       2.0|\n",
      "|         170|  Manhattan|      12|     1|      0|         1|           0|                     -0.3886|         0.76|           -0.8571|           1.5346|         -1.3043|                     0.4759|           -0.8899|       1.0|\n",
      "|         186|  Manhattan|      12|     1|      0|         1|           0|                     -0.0694|         3.33|           -0.1395|           1.5346|         -1.3043|                     0.4759|           -0.8899|       3.4|\n",
      "|         163|  Manhattan|      12|     1|      0|         1|           0|                      -0.276|          2.1|           -0.4772|           1.5346|         -1.3043|                     0.4759|           -0.8899|      3.42|\n",
      "|         142|  Manhattan|      12|     1|      0|         1|           0|                     -0.1008|          2.7|           -0.2239|           1.5346|         -1.3043|                     0.4759|           -0.8899|       5.3|\n",
      "|         162|  Manhattan|      12|     1|      0|         1|           0|                     -0.3332|         0.82|           -0.7726|           1.5346|         -1.3043|                     0.4759|           -0.8899|      3.05|\n",
      "|          79|  Manhattan|      12|     1|      0|         1|           0|                      -0.241|          1.7|           -0.6038|           1.5346|         -1.3043|                     0.4759|           -0.8899|      3.75|\n",
      "|         233|  Manhattan|      12|     1|      0|         1|           0|                     -0.3166|          1.6|           -0.6882|           1.5346|         -1.3043|                     0.4759|           -0.8899|       2.7|\n",
      "|         239|  Manhattan|      12|     1|      0|         1|           0|                     -0.0292|          3.9|           -0.0551|           1.5346|         -1.3043|                     0.4759|           -0.8899|       4.8|\n",
      "+------------+-----------+--------+------+-------+----------+------------+----------------------------+-------------+------------------+-----------------+----------------+---------------------------+------------------+----------+\n",
      "only showing top 10 rows\n",
      "\n"
     ]
    }
   ],
   "source": [
    "file_path = '../data/curated/*'\n",
    "df = spark.read.parquet(file_path)\n",
    "df = df.sample(withReplacement=False, fraction=0.7, seed=42)\n",
    "df.show(10)"
   ]
  },
  {
   "cell_type": "markdown",
   "metadata": {},
   "source": [
    "Creating the target column for training, using quantiles to classify tips into three categories: Small, moderate and large tips\n"
   ]
  },
  {
   "cell_type": "code",
   "execution_count": 3,
   "metadata": {},
   "outputs": [
    {
     "name": "stderr",
     "output_type": "stream",
     "text": [
      "                                                                                \r"
     ]
    },
    {
     "name": "stdout",
     "output_type": "stream",
     "text": [
      "1.132216014897579\n",
      "2.4791666666666665\n",
      "+-------+-------+------------------+\n",
      "|tip_bin|  count|        percentage|\n",
      "+-------+-------+------------------+\n",
      "|      1|4611889|  49.5704986953036|\n",
      "|      2|2371081|25.485363506571634|\n",
      "|      0|2320727|24.944137798124764|\n",
      "+-------+-------+------------------+\n",
      "\n"
     ]
    }
   ],
   "source": [
    "df = df.withColumn(\n",
    "    \"tip_to_dist_ratio\",\n",
    "    F.col(\"tip_amount\") / F.col(\"trip_distance\")\n",
    ")\n",
    "\n",
    "# Calculating quantiles\n",
    "percentiles = df.approxQuantile(\"tip_to_dist_ratio\", [0.25, 0.75], 0.01)\n",
    "Q1 = percentiles[0]\n",
    "Q3 = percentiles[1]\n",
    "print(Q1)\n",
    "print(Q3)\n",
    "\n",
    "df = df.withColumn(\n",
    "    \"tip_bin\",\n",
    "   F.when(F.col(\"tip_to_dist_ratio\") <= Q1, 0)  #Small Tip\n",
    "    .when(F.col(\"tip_to_dist_ratio\") <= Q3, 1)   #Moderate Tip\n",
    "    .otherwise(2) #Large Tip\n",
    ")\n",
    "\n",
    "# Describing number of instances in each classes\n",
    "bin_counts = df.groupBy(\"tip_bin\").agg(F.count(\"*\").alias(\"count\"))\n",
    "total_count = df.count()\n",
    "bin_percentages = bin_counts.withColumn(\"percentage\", F.col(\"count\") / F.lit(total_count) * 100)\n",
    "bin_percentages.show()"
   ]
  },
  {
   "cell_type": "code",
   "execution_count": 4,
   "metadata": {},
   "outputs": [
    {
     "data": {
      "text/plain": [
       "7683553"
      ]
     },
     "execution_count": 4,
     "metadata": {},
     "output_type": "execute_result"
    }
   ],
   "source": [
    "training_data = df.filter(df[\"pu_month\"].isin([7,8,9,10,11]))\n",
    "test_data = df.filter(df[\"pu_month\"].isin([12]))\n",
    "training_data.count()"
   ]
  },
  {
   "cell_type": "code",
   "execution_count": 5,
   "metadata": {},
   "outputs": [],
   "source": [
    "feature_columns = [\n",
    "    'pulocationid',\"pu_day\", \"pu_hour\", \"is_weekend\", \"is_peak_hour\",\n",
    "    \"trip_duration_minutes_scaled\", \"trip_distance\", \"fare_amount_scaled\",\n",
    "    \"wind_speed_scaled\", \"dew_point_scaled\", \"atmospheric_pressure_scaled\",\n",
    "    \"temperature_scaled\"\n",
    "]\n",
    "assembler = VectorAssembler(\n",
    "    inputCols=feature_columns,\n",
    "    outputCol=\"features\"\n",
    ")"
   ]
  },
  {
   "cell_type": "code",
   "execution_count": 6,
   "metadata": {},
   "outputs": [
    {
     "name": "stdout",
     "output_type": "stream",
     "text": [
      "+------------+------+-------+----------+------------+----------------------------+-------------+------------------+-----------------+----------------+---------------------------+------------------+-------+\n",
      "|pulocationid|pu_day|pu_hour|is_weekend|is_peak_hour|trip_duration_minutes_scaled|trip_distance|fare_amount_scaled|wind_speed_scaled|dew_point_scaled|atmospheric_pressure_scaled|temperature_scaled|tip_bin|\n",
      "+------------+------+-------+----------+------------+----------------------------+-------------+------------------+-----------------+----------------+---------------------------+------------------+-------+\n",
      "|         114|     1|      0|         1|           0|                     -0.1192|          2.2|           -0.3928|           1.5346|         -1.3043|                     0.4759|           -0.8899|      1|\n",
      "|         229|     1|      0|         1|           0|                      -0.286|          2.2|           -0.5194|           1.5346|         -1.3043|                     0.4759|           -0.8899|      0|\n",
      "|         170|     1|      0|         1|           0|                     -0.3886|         0.76|           -0.8571|           1.5346|         -1.3043|                     0.4759|           -0.8899|      1|\n",
      "|         186|     1|      0|         1|           0|                     -0.0694|         3.33|           -0.1395|           1.5346|         -1.3043|                     0.4759|           -0.8899|      0|\n",
      "|         163|     1|      0|         1|           0|                      -0.276|          2.1|           -0.4772|           1.5346|         -1.3043|                     0.4759|           -0.8899|      1|\n",
      "+------------+------+-------+----------+------------+----------------------------+-------------+------------------+-----------------+----------------+---------------------------+------------------+-------+\n",
      "only showing top 5 rows\n",
      "\n"
     ]
    }
   ],
   "source": [
    "test_data = test_data.select(*feature_columns,\"tip_bin\")\n",
    "test_data.show(5)\n"
   ]
  },
  {
   "cell_type": "markdown",
   "metadata": {},
   "source": [
    "The follwing section perform training for the Neural Network."
   ]
  },
  {
   "cell_type": "code",
   "execution_count": 7,
   "metadata": {},
   "outputs": [
    {
     "name": "stderr",
     "output_type": "stream",
     "text": [
      "24/08/25 15:08:19 WARN GarbageCollectionMetrics: To enable non-built-in garbage collector(s) List(G1 Concurrent GC), users should configure it(them) to spark.eventLog.gcMetrics.youngGenerationGarbageCollectors or spark.eventLog.gcMetrics.oldGenerationGarbageCollectors\n",
      "24/08/25 15:08:24 WARN InstanceBuilder: Failed to load implementation from:dev.ludovic.netlib.blas.JNIBLAS\n",
      "24/08/25 15:08:24 WARN InstanceBuilder: Failed to load implementation from:dev.ludovic.netlib.blas.VectorBLAS\n",
      "                                                                                \r"
     ]
    }
   ],
   "source": [
    "layers = [len(feature_columns),32,64,16,3]\n",
    "\n",
    "# Define the hyperparameters for the Neural Network\n",
    "mlp = MultilayerPerceptronClassifier(\n",
    "    featuresCol=\"features\",\n",
    "    labelCol=\"tip_bin\",\n",
    "    maxIter=100,\n",
    "    layers=layers,\n",
    "    blockSize=128,\n",
    "    seed=1234\n",
    ")\n",
    "\n",
    "# Fit the model to training data\n",
    "pipeline = Pipeline(stages=[assembler, mlp])\n",
    "model = pipeline.fit(training_data)\n"
   ]
  },
  {
   "cell_type": "markdown",
   "metadata": {},
   "source": [
    "Evaluate!"
   ]
  },
  {
   "cell_type": "code",
   "execution_count": 8,
   "metadata": {},
   "outputs": [
    {
     "name": "stderr",
     "output_type": "stream",
     "text": [
      "[Stage 293:=================================================>       (7 + 1) / 8]\r"
     ]
    },
    {
     "name": "stdout",
     "output_type": "stream",
     "text": [
      "Recall score: 0.6262468027533354\n"
     ]
    },
    {
     "name": "stderr",
     "output_type": "stream",
     "text": [
      "                                                                                \r"
     ]
    }
   ],
   "source": [
    "evaluator = MulticlassClassificationEvaluator(\n",
    "    labelCol=\"tip_bin\",\n",
    "    predictionCol=\"prediction\",\n",
    "    metricName=\"weightedRecall\"\n",
    ")\n",
    "\n",
    "test_predictions = model.transform(test_data)\n",
    "\n",
    "# Evaluate the test data\n",
    "recall_score = evaluator.evaluate(test_predictions)\n",
    "print(f\"Recall score: {recall_score}\")"
   ]
  },
  {
   "cell_type": "code",
   "execution_count": 9,
   "metadata": {},
   "outputs": [
    {
     "name": "stderr",
     "output_type": "stream",
     "text": [
      "[Stage 295:=================================================>       (7 + 1) / 8]\r"
     ]
    },
    {
     "name": "stdout",
     "output_type": "stream",
     "text": [
      "+-------+----------+------+\n",
      "|tip_bin|prediction| count|\n",
      "+-------+----------+------+\n",
      "|      2|       1.0|201443|\n",
      "|      1|       0.0|104377|\n",
      "|      0|       2.0| 27802|\n",
      "|      0|       0.0|163249|\n",
      "|      1|       2.0| 95132|\n",
      "|      2|       2.0|262936|\n",
      "|      1|       1.0|588425|\n",
      "|      2|       0.0|  1298|\n",
      "|      0|       1.0|175482|\n",
      "+-------+----------+------+\n",
      "\n"
     ]
    },
    {
     "name": "stderr",
     "output_type": "stream",
     "text": [
      "                                                                                \r"
     ]
    }
   ],
   "source": [
    "confusion_matrix = test_predictions.groupBy(\"tip_bin\", \"prediction\").count()\n",
    "\n",
    "# Show the confusion matrix\n",
    "confusion_matrix.show()"
   ]
  },
  {
   "cell_type": "code",
   "execution_count": 10,
   "metadata": {},
   "outputs": [
    {
     "name": "stderr",
     "output_type": "stream",
     "text": [
      "                                                                                \r"
     ]
    },
    {
     "data": {
      "image/png": "[encoded data removed]",
      "text/plain": [
       "<Figure size 1000x700 with 2 Axes>"
      ]
     },
     "metadata": {},
     "output_type": "display_data"
    }
   ],
   "source": [
    "from pyspark.sql import functions as F\n",
    "import matplotlib.pyplot as plt\n",
    "import seaborn as sns\n",
    "\n",
    "# Convert the prediction column to integer\n",
    "predictions = test_predictions.withColumn(\"prediction\", F.col(\"prediction\").cast(\"integer\"))\n",
    "\n",
    "# Create the confusion matrix\n",
    "confusion_matrix = predictions.groupBy(\"tip_bin\", \"prediction\").count()\n",
    "\n",
    "# Compute total counts for each tip_bin\n",
    "total_counts_per_tip_bin = confusion_matrix.groupBy(\"tip_bin\").agg(F.sum(\"count\").alias(\"total_count\"))\n",
    "\n",
    "# Join the total counts with the confusion matrix\n",
    "confusion_matrix_with_totals = confusion_matrix.join(total_counts_per_tip_bin, on=\"tip_bin\")\n",
    "\n",
    "# Calculate percentages\n",
    "confusion_matrix_percent = confusion_matrix_with_totals.withColumn(\n",
    "    \"percentage\",\n",
    "    (F.col(\"count\") / F.col(\"total_count\")) * 100\n",
    ")\n",
    "\n",
    "# Collect the results to a Pandas DataFrame for visualization\n",
    "confusion_matrix_pd = confusion_matrix_percent.toPandas()\n",
    "\n",
    "# Reshape the confusion matrix for heatmap\n",
    "confusion_matrix_matrix = confusion_matrix_pd.pivot(\n",
    "    index='tip_bin', columns='prediction', values='percentage'\n",
    ").fillna(0)\n",
    "\n",
    "# Plot the confusion matrix\n",
    "plt.figure(figsize=(10, 7))\n",
    "sns.heatmap(confusion_matrix_matrix, annot=True, fmt=\".2f\", cmap=\"Blues\", cbar=True)\n",
    "plt.xlabel('Predicted Label')\n",
    "plt.ylabel('True Label')\n",
    "plt.title('Confusion Matrix (Percentage)')\n",
    "\n",
    "plt.savefig(\"../plots/confusion_matrix_MLP.png\", format=\"png\")\n",
    "\n"
   ]
  },
  {
   "cell_type": "code",
   "execution_count": 12,
   "metadata": {},
   "outputs": [],
   "source": [
    "model_path = \"../MLP_trained\"\n",
    "model.save(model_path)"
   ]
  },
  {
   "cell_type": "code",
   "execution_count": null,
   "metadata": {},
   "outputs": [],
   "source": []
  }
 ],
 "metadata": {
  "kernelspec": {
   "display_name": "Python 3",
   "language": "python",
   "name": "python3"
  },
  "language_info": {
   "codemirror_mode": {
    "name": "ipython",
    "version": 3
   },
   "file_extension": ".py",
   "mimetype": "text/x-python",
   "name": "python",
   "nbconvert_exporter": "python",
   "pygments_lexer": "ipython3",
   "version": "3.12.4"
  }
 },
 "nbformat": 4,
 "nbformat_minor": 2
}
