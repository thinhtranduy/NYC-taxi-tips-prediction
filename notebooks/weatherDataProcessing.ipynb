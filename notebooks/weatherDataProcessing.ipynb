{
 "cells": [
  {
   "cell_type": "markdown",
   "metadata": {},
   "source": [
    "This notebook preprocess and filter the weather dataset to align with the research objects."
   ]
  },
  {
   "cell_type": "code",
   "execution_count": 13,
   "metadata": {},
   "outputs": [],
   "source": [
    "import pandas as pd\n",
    "import numpy as np"
   ]
  },
  {
   "cell_type": "code",
   "execution_count": 14,
   "metadata": {},
   "outputs": [
    {
     "name": "stderr",
     "output_type": "stream",
     "text": [
      "/var/folders/bc/1syg3kl11695l0f9yqy1xfcr0000gn/T/ipykernel_99512/2744498934.py:1: DtypeWarning: Columns (36,42,43,48,52,88) have mixed types. Specify dtype option on import or set low_memory=False.\n",
      "  weather_2023_df = pd.read_csv(\"../data/weather_2023.csv\")\n"
     ]
    },
    {
     "data": {
      "text/plain": [
       "(11842, 91)"
      ]
     },
     "execution_count": 14,
     "metadata": {},
     "output_type": "execute_result"
    }
   ],
   "source": [
    "weather_2023_df = pd.read_csv(\"../data/weather_2023.csv\")\n",
    "weather_2023_df['DATE'] = pd.to_datetime(weather_2023_df['DATE'], format=\"%Y-%m-%dT%H:%M:%S\")\n",
    "weather_2023_df.shape\n"
   ]
  },
  {
   "cell_type": "code",
   "execution_count": 15,
   "metadata": {},
   "outputs": [
    {
     "data": {
      "text/plain": [
       "Index(['STATION', 'DATE', 'SOURCE', 'LATITUDE', 'LONGITUDE', 'ELEVATION',\n",
       "       'NAME', 'REPORT_TYPE', 'CALL_SIGN', 'QUALITY_CONTROL', 'WND', 'CIG',\n",
       "       'VIS', 'TMP', 'DEW', 'SLP', 'AA1', 'AA2', 'AA3', 'AB1', 'AD1', 'AE1',\n",
       "       'AH1', 'AH2', 'AH3', 'AH4', 'AH5', 'AH6', 'AI1', 'AI2', 'AI3', 'AI4',\n",
       "       'AI5', 'AI6', 'AJ1', 'AK1', 'AL1', 'AM1', 'AN1', 'AT1', 'AT2', 'AT3',\n",
       "       'AT4', 'AT5', 'AU1', 'AU2', 'AW1', 'AW2', 'AW3', 'AX1', 'AX2', 'AX3',\n",
       "       'AX4', 'GA1', 'GA2', 'GA3', 'GD1', 'GD2', 'GD3', 'GE1', 'GF1', 'KA1',\n",
       "       'KA2', 'KB1', 'KB2', 'KB3', 'KC1', 'KC2', 'KD1', 'KD2', 'KE1', 'KG1',\n",
       "       'KG2', 'MA1', 'MD1', 'MF1', 'MG1', 'MH1', 'MK1', 'MW1', 'OC1', 'OD1',\n",
       "       'OE1', 'OE2', 'OE3', 'RH1', 'RH2', 'RH3', 'WA1', 'REM', 'EQD'],\n",
       "      dtype='object')"
      ]
     },
     "execution_count": 15,
     "metadata": {},
     "output_type": "execute_result"
    }
   ],
   "source": [
    "weather_2023_df.columns"
   ]
  },
  {
   "cell_type": "markdown",
   "metadata": {},
   "source": [
    "Get hourly report only"
   ]
  },
  {
   "cell_type": "code",
   "execution_count": 16,
   "metadata": {},
   "outputs": [
    {
     "data": {
      "text/plain": [
       "5       2023-01-01 00:51:00\n",
       "8       2023-01-01 01:51:00\n",
       "10      2023-01-01 02:51:00\n",
       "13      2023-01-01 03:51:00\n",
       "16      2023-01-01 04:51:00\n",
       "                ...        \n",
       "11837   2023-12-31 19:51:00\n",
       "11838   2023-12-31 20:51:00\n",
       "11839   2023-12-31 21:51:00\n",
       "11840   2023-12-31 22:51:00\n",
       "11841   2023-12-31 23:51:00\n",
       "Name: DATE, Length: 8757, dtype: datetime64[ns]"
      ]
     },
     "execution_count": 16,
     "metadata": {},
     "output_type": "execute_result"
    }
   ],
   "source": [
    "hourly_weather = weather_2023_df.loc[weather_2023_df['REPORT_TYPE'] == 'FM-15', :]\n",
    "hourly_weather.shape\n",
    "hourly_weather['DATE']"
   ]
  },
  {
   "cell_type": "markdown",
   "metadata": {},
   "source": [
    "This part generates a csv file `hourly_weather_2023.csv` in `data` directory for further used."
   ]
  },
  {
   "cell_type": "code",
   "execution_count": 17,
   "metadata": {},
   "outputs": [],
   "source": [
    "columns = ['date','hour', 'wind_speed', 'dew_point', 'atmospheric_pressure', 'temperature']\n",
    "hourly_weather_2023_filtered = pd.DataFrame(columns=columns)\n"
   ]
  },
  {
   "cell_type": "code",
   "execution_count": 18,
   "metadata": {},
   "outputs": [],
   "source": [
    "\n",
    "hourly_weather_2023_filtered['wind_speed'] = hourly_weather['WND'].apply(lambda x: int((x.split(',')[-2]))/10).replace(999.9, np.nan)\n",
    "hourly_weather_2023_filtered['temperature'] = hourly_weather['TMP'].apply(lambda x: int((x.split(',')[0]))/10).replace(999.9, np.nan)\n",
    "hourly_weather_2023_filtered['dew_point'] = hourly_weather['DEW'].apply(lambda x: int((x.split(',')[0]))/10).replace(999.9, np.nan)  #precipitation\n",
    "hourly_weather_2023_filtered['atmospheric_pressure'] = hourly_weather['SLP'].apply(lambda x: int((x.split(',')[0]))/10).replace(9999.9, np.nan)  #precipitation\n",
    "hourly_weather_2023_filtered['date'] = [i for i in hourly_weather['DATE'].dt.date]\n",
    "hourly_weather_2023_filtered['hour'] = hourly_weather['DATE'].dt.hour.apply(lambda x: f'{x:02}')\n",
    "\n",
    "\n"
   ]
  },
  {
   "cell_type": "code",
   "execution_count": 19,
   "metadata": {},
   "outputs": [
    {
     "data": {
      "text/html": [
       "<div>\n",
       "<style scoped>\n",
       "    .dataframe tbody tr th:only-of-type {\n",
       "        vertical-align: middle;\n",
       "    }\n",
       "\n",
       "    .dataframe tbody tr th {\n",
       "        vertical-align: top;\n",
       "    }\n",
       "\n",
       "    .dataframe thead th {\n",
       "        text-align: right;\n",
       "    }\n",
       "</style>\n",
       "<table border=\"1\" class=\"dataframe\">\n",
       "  <thead>\n",
       "    <tr style=\"text-align: right;\">\n",
       "      <th></th>\n",
       "      <th>date</th>\n",
       "      <th>hour</th>\n",
       "      <th>wind_speed</th>\n",
       "      <th>dew_point</th>\n",
       "      <th>atmospheric_pressure</th>\n",
       "      <th>temperature</th>\n",
       "    </tr>\n",
       "  </thead>\n",
       "  <tbody>\n",
       "    <tr>\n",
       "      <th>5</th>\n",
       "      <td>2023-01-01</td>\n",
       "      <td>00</td>\n",
       "      <td>0.0</td>\n",
       "      <td>9.4</td>\n",
       "      <td>1009.8</td>\n",
       "      <td>10.0</td>\n",
       "    </tr>\n",
       "    <tr>\n",
       "      <th>8</th>\n",
       "      <td>2023-01-01</td>\n",
       "      <td>01</td>\n",
       "      <td>3.1</td>\n",
       "      <td>11.7</td>\n",
       "      <td>1008.6</td>\n",
       "      <td>12.8</td>\n",
       "    </tr>\n",
       "    <tr>\n",
       "      <th>10</th>\n",
       "      <td>2023-01-01</td>\n",
       "      <td>02</td>\n",
       "      <td>0.0</td>\n",
       "      <td>11.7</td>\n",
       "      <td>1008.6</td>\n",
       "      <td>12.2</td>\n",
       "    </tr>\n",
       "    <tr>\n",
       "      <th>13</th>\n",
       "      <td>2023-01-01</td>\n",
       "      <td>03</td>\n",
       "      <td>2.6</td>\n",
       "      <td>11.1</td>\n",
       "      <td>1007.8</td>\n",
       "      <td>12.8</td>\n",
       "    </tr>\n",
       "    <tr>\n",
       "      <th>16</th>\n",
       "      <td>2023-01-01</td>\n",
       "      <td>04</td>\n",
       "      <td>0.0</td>\n",
       "      <td>11.1</td>\n",
       "      <td>1007.0</td>\n",
       "      <td>12.2</td>\n",
       "    </tr>\n",
       "    <tr>\n",
       "      <th>22</th>\n",
       "      <td>2023-01-01</td>\n",
       "      <td>05</td>\n",
       "      <td>2.6</td>\n",
       "      <td>10.6</td>\n",
       "      <td>1007.2</td>\n",
       "      <td>11.7</td>\n",
       "    </tr>\n",
       "    <tr>\n",
       "      <th>23</th>\n",
       "      <td>2023-01-01</td>\n",
       "      <td>06</td>\n",
       "      <td>3.6</td>\n",
       "      <td>10.0</td>\n",
       "      <td>1006.9</td>\n",
       "      <td>11.7</td>\n",
       "    </tr>\n",
       "    <tr>\n",
       "      <th>24</th>\n",
       "      <td>2023-01-01</td>\n",
       "      <td>07</td>\n",
       "      <td>2.6</td>\n",
       "      <td>10.0</td>\n",
       "      <td>1007.8</td>\n",
       "      <td>11.1</td>\n",
       "    </tr>\n",
       "    <tr>\n",
       "      <th>25</th>\n",
       "      <td>2023-01-01</td>\n",
       "      <td>08</td>\n",
       "      <td>4.1</td>\n",
       "      <td>9.4</td>\n",
       "      <td>1008.1</td>\n",
       "      <td>11.7</td>\n",
       "    </tr>\n",
       "    <tr>\n",
       "      <th>26</th>\n",
       "      <td>2023-01-01</td>\n",
       "      <td>09</td>\n",
       "      <td>2.1</td>\n",
       "      <td>8.9</td>\n",
       "      <td>1008.5</td>\n",
       "      <td>11.1</td>\n",
       "    </tr>\n",
       "  </tbody>\n",
       "</table>\n",
       "</div>"
      ],
      "text/plain": [
       "          date hour  wind_speed  dew_point  atmospheric_pressure  temperature\n",
       "5   2023-01-01   00         0.0        9.4                1009.8         10.0\n",
       "8   2023-01-01   01         3.1       11.7                1008.6         12.8\n",
       "10  2023-01-01   02         0.0       11.7                1008.6         12.2\n",
       "13  2023-01-01   03         2.6       11.1                1007.8         12.8\n",
       "16  2023-01-01   04         0.0       11.1                1007.0         12.2\n",
       "22  2023-01-01   05         2.6       10.6                1007.2         11.7\n",
       "23  2023-01-01   06         3.6       10.0                1006.9         11.7\n",
       "24  2023-01-01   07         2.6       10.0                1007.8         11.1\n",
       "25  2023-01-01   08         4.1        9.4                1008.1         11.7\n",
       "26  2023-01-01   09         2.1        8.9                1008.5         11.1"
      ]
     },
     "execution_count": 19,
     "metadata": {},
     "output_type": "execute_result"
    }
   ],
   "source": [
    "hourly_weather_2023_filtered.head(10)"
   ]
  },
  {
   "cell_type": "code",
   "execution_count": 20,
   "metadata": {},
   "outputs": [],
   "source": [
    "# Imputing null values using the most recent values.\n",
    "hourly_weather_2023_filtered = hourly_weather_2023_filtered.ffill()"
   ]
  },
  {
   "cell_type": "code",
   "execution_count": 21,
   "metadata": {},
   "outputs": [],
   "source": [
    "hourly_weather_2023_filtered.to_csv(\"../data/hourly_weather_2023.csv\", index=False)\n"
   ]
  }
 ],
 "metadata": {
  "kernelspec": {
   "display_name": "Python 3",
   "language": "python",
   "name": "python3"
  },
  "language_info": {
   "codemirror_mode": {
    "name": "ipython",
    "version": 3
   },
   "file_extension": ".py",
   "mimetype": "text/x-python",
   "name": "python",
   "nbconvert_exporter": "python",
   "pygments_lexer": "ipython3",
   "version": "3.12.4"
  }
 },
 "nbformat": 4,
 "nbformat_minor": 2
}
