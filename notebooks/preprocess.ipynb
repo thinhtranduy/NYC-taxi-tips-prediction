{
 "cells": [
  {
   "cell_type": "code",
   "execution_count": 1,
   "metadata": {},
   "outputs": [
    {
     "name": "stderr",
     "output_type": "stream",
     "text": [
      "Setting default log level to \"WARN\".\n",
      "To adjust logging level use sc.setLogLevel(newLevel). For SparkR, use setLogLevel(newLevel).\n",
      "24/08/13 17:25:05 WARN NativeCodeLoader: Unable to load native-hadoop library for your platform... using builtin-java classes where applicable\n"
     ]
    }
   ],
   "source": [
    "from pyspark.sql import SparkSession\n",
    "\n",
    "# Create a spark session (which will run spark jobs)\n",
    "spark = (\n",
    "    SparkSession.builder.appName(\"DuythinhtProject1\")\n",
    "    .config(\"spark.sql.repl.eagerEval.enabled\", True) \n",
    "    .config(\"spark.sql.parquet.cacheMetadata\", \"true\")\n",
    "    .config(\"spark.sql.session.timeZone\", \"Etc/UTC\")\n",
    "    .getOrCreate()\n",
    ")"
   ]
  },
  {
   "cell_type": "code",
   "execution_count": 2,
   "metadata": {},
   "outputs": [],
   "source": [
    "sdf_all = spark.read.parquet('../data/landing/')\n",
    "sdf_schema = sdf_all.schema\n"
   ]
  },
  {
   "cell_type": "code",
   "execution_count": 3,
   "metadata": {},
   "outputs": [
    {
     "name": "stdout",
     "output_type": "stream",
     "text": [
      "StructType([StructField('VendorID', IntegerType(), True), StructField('tpep_pickup_datetime', TimestampNTZType(), True), StructField('tpep_dropoff_datetime', TimestampNTZType(), True), StructField('passenger_count', LongType(), True), StructField('trip_distance', DoubleType(), True), StructField('RatecodeID', LongType(), True), StructField('store_and_fwd_flag', StringType(), True), StructField('PULocationID', IntegerType(), True), StructField('DOLocationID', IntegerType(), True), StructField('payment_type', LongType(), True), StructField('fare_amount', DoubleType(), True), StructField('extra', DoubleType(), True), StructField('mta_tax', DoubleType(), True), StructField('tip_amount', DoubleType(), True), StructField('tolls_amount', DoubleType(), True), StructField('improvement_surcharge', DoubleType(), True), StructField('total_amount', DoubleType(), True), StructField('congestion_surcharge', DoubleType(), True), StructField('Airport_fee', DoubleType(), True)])\n"
     ]
    },
    {
     "data": {
      "text/plain": [
       "{'vendorid': IntegerType(),\n",
       " 'tpep_pickup_datetime': TimestampNTZType(),\n",
       " 'tpep_dropoff_datetime': TimestampNTZType(),\n",
       " 'passenger_count': LongType(),\n",
       " 'trip_distance': DoubleType(),\n",
       " 'ratecodeid': LongType(),\n",
       " 'store_and_fwd_flag': StringType(),\n",
       " 'pulocationid': IntegerType(),\n",
       " 'dolocationid': IntegerType(),\n",
       " 'payment_type': LongType(),\n",
       " 'fare_amount': DoubleType(),\n",
       " 'extra': DoubleType(),\n",
       " 'mta_tax': DoubleType(),\n",
       " 'tip_amount': DoubleType(),\n",
       " 'tolls_amount': DoubleType(),\n",
       " 'improvement_surcharge': DoubleType(),\n",
       " 'total_amount': DoubleType(),\n",
       " 'congestion_surcharge': DoubleType(),\n",
       " 'airport_fee': DoubleType()}"
      ]
     },
     "execution_count": 3,
     "metadata": {},
     "output_type": "execute_result"
    }
   ],
   "source": [
    "print(sdf_schema)\n",
    "schema_dict = {field.name.lower(): field.dataType for field in sdf_schema.fields}\n",
    "schema_dict"
   ]
  },
  {
   "cell_type": "code",
   "execution_count": 4,
   "metadata": {},
   "outputs": [
    {
     "name": "stderr",
     "output_type": "stream",
     "text": [
      "24/08/13 17:25:20 WARN GarbageCollectionMetrics: To enable non-built-in garbage collector(s) List(G1 Concurrent GC), users should configure it(them) to spark.eventLog.gcMetrics.youngGenerationGarbageCollectors or spark.eventLog.gcMetrics.oldGenerationGarbageCollectors\n",
      "                                                                                \r"
     ]
    }
   ],
   "source": [
    "from pyspark.sql import SparkSession, functions as F\n",
    "\n",
    "for month in range(7, 13):\n",
    "    input_path = f'../data/landing/2023-{str(month).zfill(2)}-yellow_cab.parquet'\n",
    "    output_path = f'../data/raw/2023-{str(month).zfill(2)}-yellow_cab'\n",
    "    \n",
    "    sdf_malformed = spark.read.parquet(input_path)\n",
    "    \n",
    "    # Convert column names to lowercase\n",
    "    consistent_col_casing_malformed = [F.col(col_name).alias(col_name.lower()) for col_name in sdf_malformed.columns]\n",
    "    sdf_malformed = sdf_malformed.select(*consistent_col_casing_malformed)\n",
    "    \n",
    "    # Cast columns to match the schema, only for columns present in the schema\n",
    "    casted_columns = [\n",
    "        F.col(c).cast(schema_dict[c]) \n",
    "        for c in sdf_malformed.columns \n",
    "        if c in schema_dict\n",
    "    ]\n",
    "    \n",
    "    # Ensure all columns are in the schema\n",
    "    for col_name in sdf_malformed.columns:\n",
    "        if col_name not in schema_dict:\n",
    "            raise ValueError(f\"Column '{col_name}' in the DataFrame is not present in the schema.\")\n",
    "\n",
    "    sdf_malformed = sdf_malformed.select(*casted_columns)\n",
    "    \n",
    "    sdf_malformed \\\n",
    "    .coalesce(1) \\\n",
    "    .write \\\n",
    "    .mode('overwrite') \\\n",
    "    .parquet(output_path)\n",
    "\n"
   ]
  },
  {
   "cell_type": "code",
   "execution_count": 5,
   "metadata": {},
   "outputs": [
    {
     "name": "stdout",
     "output_type": "stream",
     "text": [
      "+--------+--------------------+---------------------+---------------+-------------+----------+------------------+------------+------------+------------+-----------+-----+-------+----------+------------+---------------------+------------+--------------------+-----------+\n",
      "|vendorid|tpep_pickup_datetime|tpep_dropoff_datetime|passenger_count|trip_distance|ratecodeid|store_and_fwd_flag|pulocationid|dolocationid|payment_type|fare_amount|extra|mta_tax|tip_amount|tolls_amount|improvement_surcharge|total_amount|congestion_surcharge|airport_fee|\n",
      "+--------+--------------------+---------------------+---------------+-------------+----------+------------------+------------+------------+------------+-----------+-----+-------+----------+------------+---------------------+------------+--------------------+-----------+\n",
      "|       1| 2023-07-01 00:29:59|  2023-07-01 00:40:15|              1|          1.8|         1|                 N|         140|         263|           1|       12.1|  3.5|    0.5|       5.1|         0.0|                  1.0|        22.2|                 2.5|        0.0|\n",
      "+--------+--------------------+---------------------+---------------+-------------+----------+------------------+------------+------------+------------+-----------+-----+-------+----------+------------+---------------------+------------+--------------------+-----------+\n",
      "only showing top 1 row\n",
      "\n",
      "root\n",
      " |-- vendorid: integer (nullable = true)\n",
      " |-- tpep_pickup_datetime: timestamp_ntz (nullable = true)\n",
      " |-- tpep_dropoff_datetime: timestamp_ntz (nullable = true)\n",
      " |-- passenger_count: long (nullable = true)\n",
      " |-- trip_distance: double (nullable = true)\n",
      " |-- ratecodeid: long (nullable = true)\n",
      " |-- store_and_fwd_flag: string (nullable = true)\n",
      " |-- pulocationid: integer (nullable = true)\n",
      " |-- dolocationid: integer (nullable = true)\n",
      " |-- payment_type: long (nullable = true)\n",
      " |-- fare_amount: double (nullable = true)\n",
      " |-- extra: double (nullable = true)\n",
      " |-- mta_tax: double (nullable = true)\n",
      " |-- tip_amount: double (nullable = true)\n",
      " |-- tolls_amount: double (nullable = true)\n",
      " |-- improvement_surcharge: double (nullable = true)\n",
      " |-- total_amount: double (nullable = true)\n",
      " |-- congestion_surcharge: double (nullable = true)\n",
      " |-- airport_fee: double (nullable = true)\n",
      "\n"
     ]
    }
   ],
   "source": [
    "sdf = spark.read.parquet('../data/raw/*')\n",
    "\n",
    "sdf.show(1, truncate=100)\n",
    "sdf.printSchema()"
   ]
  },
  {
   "cell_type": "code",
   "execution_count": 6,
   "metadata": {},
   "outputs": [
    {
     "name": "stdout",
     "output_type": "stream",
     "text": [
      "+--------+--------------------+---------------------+---------------+-------------+----------+------------------+------------+------------+------------+-----------+-----+-------+----------+------------+---------------------+------------+--------------------+-----------+\n",
      "|vendorid|tpep_pickup_datetime|tpep_dropoff_datetime|passenger_count|trip_distance|ratecodeid|store_and_fwd_flag|pulocationid|dolocationid|payment_type|fare_amount|extra|mta_tax|tip_amount|tolls_amount|improvement_surcharge|total_amount|congestion_surcharge|airport_fee|\n",
      "+--------+--------------------+---------------------+---------------+-------------+----------+------------------+------------+------------+------------+-----------+-----+-------+----------+------------+---------------------+------------+--------------------+-----------+\n",
      "|       1| 2023-07-01 00:29:59|  2023-07-01 00:40:15|              1|          1.8|         1|             false|         140|         263|           1|       12.1|  3.5|    0.5|       5.1|         0.0|                  1.0|        22.2|                 2.5|        0.0|\n",
      "+--------+--------------------+---------------------+---------------+-------------+----------+------------------+------------+------------+------------+-----------+-----+-------+----------+------------+---------------------+------------+--------------------+-----------+\n",
      "only showing top 1 row\n",
      "\n"
     ]
    }
   ],
   "source": [
    "sdf = sdf.withColumn(\n",
    "    'store_and_fwd_flag',\n",
    "    (F.col(\"store_and_fwd_flag\") == 'Y').cast('BOOLEAN')\n",
    ")\n",
    "\n",
    "sdf.show(1, truncate=100)"
   ]
  },
  {
   "cell_type": "code",
   "execution_count": 7,
   "metadata": {},
   "outputs": [
    {
     "name": "stderr",
     "output_type": "stream",
     "text": [
      "24/08/13 17:25:32 WARN SparkStringUtils: Truncated the string representation of a plan since it was too large. This behavior can be adjusted by setting 'spark.sql.debug.maxToStringFields'.\n",
      "[Stage 16:=============================================>            (7 + 2) / 9]\r"
     ]
    },
    {
     "name": "stdout",
     "output_type": "stream",
     "text": [
      "+-------+------------------+------------------+------------------+------------------+------------------+------------------+------------------+-----------------+------------------+-------------------+------------------+------------------+---------------------+------------------+--------------------+-------------------+\n",
      "|summary|          vendorid|   passenger_count|     trip_distance|        ratecodeid|      pulocationid|      dolocationid|      payment_type|      fare_amount|             extra|            mta_tax|        tip_amount|      tolls_amount|improvement_surcharge|      total_amount|congestion_surcharge|        airport_fee|\n",
      "+-------+------------------+------------------+------------------+------------------+------------------+------------------+------------------+-----------------+------------------+-------------------+------------------+------------------+---------------------+------------------+--------------------+-------------------+\n",
      "|  count|          18816606|          18035802|          18816606|          18035802|          18816606|          18816606|          18816606|         18816606|          18816606|           18816606|          18816606|          18816606|             18816606|          18816606|            18035802|           18035802|\n",
      "|   mean|1.7461057536093385|1.3782502713214528| 4.097593948663824|1.7240653340505734|164.72296178173684|163.71285629299993|1.1801558687044837|19.90333107149767| 1.520067845922906|0.48408660095237194|3.5462419450153924|0.6121813328056448|   0.9776629855564427| 28.89154516755708|  2.2564297251655345|0.15618158815449407|\n",
      "| stddev|0.4395777687050536|0.8929549348170566|232.23565515505481| 7.916098590743181| 63.93715471091497| 69.79825419579298|0.5744553398605422|57.96767286091721|2.9538725588058465|0.11523920544362352| 4.273821132890453|2.2621504991689325|   0.2085746724644203|59.977508660548274|  0.8152663750634584| 0.5086636882528983|\n",
      "|    min|                 1|                 0|               0.0|                 1|                 1|                 1|                 0|          -1087.3|            -39.17|               -0.5|           -330.88|             -91.3|                 -1.0|          -1094.05|                -2.5|              -1.75|\n",
      "|    max|                 6|                 9|         345729.44|                99|               265|               265|                 4|        187502.96|           10002.5|              52.09|            4174.0|             270.0|                  1.0|          187513.9|                2.75|               1.75|\n",
      "+-------+------------------+------------------+------------------+------------------+------------------+------------------+------------------+-----------------+------------------+-------------------+------------------+------------------+---------------------+------------------+--------------------+-------------------+\n",
      "\n"
     ]
    },
    {
     "name": "stderr",
     "output_type": "stream",
     "text": [
      "                                                                                \r"
     ]
    }
   ],
   "source": [
    "summary = sdf.describe()\n",
    "summary.show()"
   ]
  },
  {
   "cell_type": "code",
   "execution_count": 8,
   "metadata": {},
   "outputs": [
    {
     "name": "stderr",
     "output_type": "stream",
     "text": [
      "[Stage 19:=========================>                                (4 + 5) / 9]\r"
     ]
    },
    {
     "name": "stdout",
     "output_type": "stream",
     "text": [
      "+--------+--------------------+---------------------+---------------+-------------+----------+------------------+------------+------------+------------+-----------+-----+-------+----------+------------+---------------------+------------+--------------------+-----------+\n",
      "|vendorid|tpep_pickup_datetime|tpep_dropoff_datetime|passenger_count|trip_distance|ratecodeid|store_and_fwd_flag|pulocationid|dolocationid|payment_type|fare_amount|extra|mta_tax|tip_amount|tolls_amount|improvement_surcharge|total_amount|congestion_surcharge|airport_fee|\n",
      "+--------+--------------------+---------------------+---------------+-------------+----------+------------------+------------+------------+------------+-----------+-----+-------+----------+------------+---------------------+------------+--------------------+-----------+\n",
      "|       0|                   0|                    0|         780804|            0|    780804|            780804|           0|           0|           0|          0|    0|      0|         0|           0|                    0|           0|              780804|     780804|\n",
      "+--------+--------------------+---------------------+---------------+-------------+----------+------------------+------------+------------+------------+-----------+-----+-------+----------+------------+---------------------+------------+--------------------+-----------+\n",
      "\n"
     ]
    },
    {
     "name": "stderr",
     "output_type": "stream",
     "text": [
      "                                                                                \r"
     ]
    }
   ],
   "source": [
    "null_counts = sdf.select([F.sum(F.col(c).isNull().cast(\"int\")).alias(c) for c in sdf.columns])\n",
    "null_counts.show()\n"
   ]
  },
  {
   "cell_type": "code",
   "execution_count": 9,
   "metadata": {},
   "outputs": [
    {
     "name": "stderr",
     "output_type": "stream",
     "text": [
      "                                                                                \r"
     ]
    },
    {
     "data": {
      "text/plain": [
       "18035802"
      ]
     },
     "execution_count": 9,
     "metadata": {},
     "output_type": "execute_result"
    }
   ],
   "source": [
    "sdf_cleaned = sdf.dropna()\n",
    "sdf_cleaned.count()"
   ]
  },
  {
   "cell_type": "code",
   "execution_count": 10,
   "metadata": {},
   "outputs": [
    {
     "name": "stderr",
     "output_type": "stream",
     "text": [
      "                                                                                \r"
     ]
    },
    {
     "name": "stdout",
     "output_type": "stream",
     "text": [
      "+--------+--------------------+---------------------+---------------+-------------+----------+------------------+------------+------------+------------+-----------+-----+-------+----------+------------+---------------------+------------+--------------------+-----------+\n",
      "|vendorid|tpep_pickup_datetime|tpep_dropoff_datetime|passenger_count|trip_distance|ratecodeid|store_and_fwd_flag|pulocationid|dolocationid|payment_type|fare_amount|extra|mta_tax|tip_amount|tolls_amount|improvement_surcharge|total_amount|congestion_surcharge|airport_fee|\n",
      "+--------+--------------------+---------------------+---------------+-------------+----------+------------------+------------+------------+------------+-----------+-----+-------+----------+------------+---------------------+------------+--------------------+-----------+\n",
      "|       0|                   0|                    0|              0|            0|         0|                 0|           0|           0|           0|          0|    0|      0|         0|           0|                    0|           0|                   0|          0|\n",
      "+--------+--------------------+---------------------+---------------+-------------+----------+------------------+------------+------------+------------+-----------+-----+-------+----------+------------+---------------------+------------+--------------------+-----------+\n",
      "\n"
     ]
    },
    {
     "data": {
      "text/plain": [
       "18035802"
      ]
     },
     "execution_count": 10,
     "metadata": {},
     "output_type": "execute_result"
    }
   ],
   "source": [
    "sdf = sdf.filter(F.col('passenger_count').isNotNull())\n",
    "null_counts = sdf.select([F.sum(F.col(c).isNull().cast(\"int\")).alias(c) for c in sdf.columns])\n",
    "null_counts.show()\n",
    "\n",
    "sdf.count()\n",
    "\n"
   ]
  },
  {
   "cell_type": "code",
   "execution_count": 12,
   "metadata": {},
   "outputs": [
    {
     "name": "stderr",
     "output_type": "stream",
     "text": [
      "[Stage 36:===================>                                      (3 + 6) / 9]\r"
     ]
    },
    {
     "name": "stdout",
     "output_type": "stream",
     "text": [
      "16999413\n",
      "+--------+--------------------+---------------------+---------------+-------------+----------+------------------+------------+------------+------------+-----------+-----+-------+----------+------------+---------------------+------------+--------------------+-----------+---------------+\n",
      "|vendorid|tpep_pickup_datetime|tpep_dropoff_datetime|passenger_count|trip_distance|ratecodeid|store_and_fwd_flag|pulocationid|dolocationid|payment_type|fare_amount|extra|mta_tax|tip_amount|tolls_amount|improvement_surcharge|total_amount|congestion_surcharge|airport_fee|is_valid_record|\n",
      "+--------+--------------------+---------------------+---------------+-------------+----------+------------------+------------+------------+------------+-----------+-----+-------+----------+------------+---------------------+------------+--------------------+-----------+---------------+\n",
      "|       1| 2023-07-01 00:29:59|  2023-07-01 00:40:15|              1|          1.8|         1|             false|         140|         263|           1|       12.1|  3.5|    0.5|       5.1|         0.0|                  1.0|        22.2|                 2.5|        0.0|           true|\n",
      "|       2| 2023-07-01 00:03:25|  2023-07-01 00:23:44|              1|         2.31|         1|             false|         163|         163|           2|       19.1|  1.0|    0.5|       0.0|         0.0|                  1.0|        24.1|                 2.5|        0.0|           true|\n",
      "|       2| 2023-07-01 00:38:29|  2023-07-01 00:48:53|              1|         2.36|         1|             false|         142|         262|           1|       13.5|  1.0|    0.5|       3.7|         0.0|                  1.0|        22.2|                 2.5|        0.0|           true|\n",
      "|       2| 2023-07-01 00:14:16|  2023-07-01 00:29:13|              1|         4.36|         1|             false|          68|          24|           1|       19.8|  1.0|    0.5|      4.96|         0.0|                  1.0|       29.76|                 2.5|        0.0|           true|\n",
      "|       2| 2023-07-01 00:29:32|  2023-07-01 00:54:14|              1|         8.67|         1|             false|         138|         186|           1|       38.7|  6.0|    0.5|       7.0|        6.55|                  1.0|        64.0|                 2.5|       1.75|           true|\n",
      "|       2| 2023-07-01 00:24:43|  2023-07-01 00:47:49|              1|         9.11|         1|             false|         138|         230|           1|       39.4|  6.0|    0.5|     11.19|        6.55|                  1.0|       68.89|                 2.5|       1.75|           true|\n",
      "|       2| 2023-07-01 00:35:28|  2023-07-01 00:45:30|              1|         3.08|         1|             false|         166|         244|           1|       14.9|  1.0|    0.5|      3.48|         0.0|                  1.0|       20.88|                 0.0|        0.0|           true|\n",
      "|       2| 2023-07-01 00:38:00|  2023-07-01 00:54:47|              3|         3.88|         1|             false|         186|          24|           1|       19.8|  1.0|    0.5|       1.0|         0.0|                  1.0|        25.8|                 2.5|        0.0|           true|\n",
      "|       1| 2023-07-01 00:02:08|  2023-07-01 00:19:00|              1|          8.1|         1|             false|          95|           7|           1|       33.8|  1.0|    0.5|       5.0|         0.0|                  1.0|        41.3|                 0.0|        0.0|           true|\n",
      "|       2| 2023-07-01 00:28:22|  2023-07-01 00:50:41|              1|         5.33|         1|             false|         158|         236|           1|       25.4|  1.0|    0.5|      6.08|         0.0|                  1.0|       36.48|                 2.5|        0.0|           true|\n",
      "|       1| 2023-07-01 00:08:26|  2023-07-01 00:32:55|              2|          2.1|         1|             false|         142|         142|           2|       21.9|  3.5|    0.5|       0.0|         0.0|                  1.0|        26.9|                 2.5|        0.0|           true|\n",
      "|       1| 2023-07-01 00:43:13|  2023-07-01 00:53:54|              1|          2.4|         1|             false|         142|          68|           1|       13.5|  3.5|    0.5|       3.7|         0.0|                  1.0|        22.2|                 2.5|        0.0|           true|\n",
      "|       2| 2023-07-01 00:05:07|  2023-07-01 00:10:03|              1|          1.2|         1|             false|         170|         107|           1|        7.9|  1.0|    0.5|       0.0|         0.0|                  1.0|        12.9|                 2.5|        0.0|           true|\n",
      "|       2| 2023-07-01 00:29:24|  2023-07-01 00:35:35|              1|         0.81|         1|             false|          68|         249|           1|        7.2|  1.0|    0.5|      2.44|         0.0|                  1.0|       14.64|                 2.5|        0.0|           true|\n",
      "|       2| 2023-07-01 00:55:31|  2023-07-01 01:03:02|              1|         1.32|         1|             false|         170|         161|           2|        9.3|  1.0|    0.5|       0.0|         0.0|                  1.0|        14.3|                 2.5|        0.0|           true|\n",
      "|       1| 2023-07-01 00:02:32|  2023-07-01 00:09:44|              2|          0.9|         1|             false|         142|         230|           1|        8.6|  3.5|    0.5|       2.7|         0.0|                  1.0|        16.3|                 2.5|        0.0|           true|\n",
      "|       1| 2023-07-01 00:12:01|  2023-07-01 00:16:54|              2|          0.5|         1|             false|         249|         158|           1|        5.1|  3.5|    0.5|       2.0|         0.0|                  1.0|        12.1|                 2.5|        0.0|           true|\n",
      "|       1| 2023-07-01 00:20:37|  2023-07-01 00:27:03|              2|          1.0|         1|             false|         158|         234|           1|        7.9|  3.5|    0.5|      2.55|         0.0|                  1.0|       15.45|                 2.5|        0.0|           true|\n",
      "|       1| 2023-07-01 00:30:18|  2023-07-01 00:49:29|              2|          4.0|         1|             false|         186|         145|           1|       21.2|  3.5|    0.5|       5.2|         0.0|                  1.0|        31.4|                 2.5|        0.0|           true|\n",
      "|       2| 2023-07-01 00:08:30|  2023-07-01 00:21:20|              1|         2.25|         1|             false|         230|          90|           1|       13.5|  1.0|    0.5|       3.7|         0.0|                  1.0|        22.2|                 2.5|        0.0|           true|\n",
      "+--------+--------------------+---------------------+---------------+-------------+----------+------------------+------------+------------+------------+-----------+-----+-------+----------+------------+---------------------+------------+--------------------+-----------+---------------+\n",
      "only showing top 20 rows\n",
      "\n"
     ]
    },
    {
     "name": "stderr",
     "output_type": "stream",
     "text": [
      "                                                                                \r"
     ]
    }
   ],
   "source": [
    "condition = (\n",
    "    (F.col('trip_distance') > 0) &\n",
    "    (F.col('passenger_count') > 0) &\n",
    "    (F.col('fare_amount') > 0) &\n",
    "    (F.col('extra') >= 0) &\n",
    "    (F.col('mta_tax') == 0.5) &\n",
    "    (F.col('tip_amount') >=  0) &\n",
    "    (F.col('tolls_amount') >=  0) &\n",
    "    (F.col('improvement_surcharge') >=  0) &\n",
    "    (F.col('total_amount') > 0) &\n",
    "    (F.col('congestion_surcharge') >=  0) &\n",
    "    (F.col('airport_fee') >=  0) &\n",
    "    (F.col('vendorid').isin([1, 2])) &\n",
    "    (F.col('ratecodeid').isin([1, 2, 3, 4, 5, 6])) &\n",
    "    (F.col('payment_type').isin([1, 2, 3, 4, 5, 6])) &\n",
    "    (F.col('pulocationid') >= 1) &\n",
    "    (F.col('pulocationid') <= 263)\n",
    ")\n",
    "sdf = sdf.withColumn(\n",
    "    'is_valid_record',\n",
    "    F.when(condition, True).otherwise(False)\n",
    ") \n",
    "sdf_valid = sdf.filter(F.col('is_valid_record') == True)\n",
    "\n",
    "\n",
    "print(sdf_valid.count())\n",
    "sdf_valid.show(20, truncate=100)\n"
   ]
  }
 ],
 "metadata": {
  "kernelspec": {
   "display_name": "Python 3",
   "language": "python",
   "name": "python3"
  },
  "language_info": {
   "codemirror_mode": {
    "name": "ipython",
    "version": 3
   },
   "file_extension": ".py",
   "mimetype": "text/x-python",
   "name": "python",
   "nbconvert_exporter": "python",
   "pygments_lexer": "ipython3",
   "version": "3.12.4"
  }
 },
 "nbformat": 4,
 "nbformat_minor": 2
}
